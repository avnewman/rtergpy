{
 "cells": [
  {
   "cell_type": "code",
   "execution_count": null,
   "metadata": {},
   "outputs": [],
   "source": [
    "from obspy import read\n",
    "from obspy.clients.fdsn import Client\n",
    "from obspy import UTCDateTime"
   ]
  },
  {
   "cell_type": "code",
   "execution_count": null,
   "metadata": {},
   "outputs": [],
   "source": [
    "client =Client(\"RASPISHAKE\")\n",
    "clat, clon =17.5, -70  # between Hispañola and Puerto Rico\n",
    "crad = 5    # radius in degrees\n",
    "stime = UTCDateTime(2022,12,29,0,0,0) # 20 events within 5 degrees\n",
    "etime = stime+86400  # one day\n",
    "network, chan = 'AM', 'EHZ'\n",
    "\n",
    "# find what stations should exist given above params\n",
    "inventory = client.get_stations(network=network, \n",
    "    longitude=clon, latitude=clat, maxradius=crad,\n",
    "    starttime=stime, endtime=etime,\n",
    "     channel=chan)\n",
    "# get data into steam\n",
    "bulk=[]\n",
    "for stat in inventory.get_contents().get(\"stations\"):\n",
    "    net,statjunk=stat.split(\".\")\n",
    "    lstat = statjunk[0:5]\n",
    "    bulk.append((net, lstat, \"*\", chan, stime, etime))\n",
    "st = client.get_waveforms_bulk(bulk,attach_response=True)\n",
    "#st = client.get_waveforms(network,('R16A2','R2974'),\"00\",chan,stime,etime, attach_response=True)\n",
    "#print(inventory)\n",
    "# write day file as stream\n",
    "st.write('20221227.mseed', format='MSEED') "
   ]
  },
  {
   "cell_type": "code",
   "execution_count": null,
   "metadata": {},
   "outputs": [],
   "source": []
  }
 ],
 "metadata": {
  "kernelspec": {
   "display_name": "rterg",
   "language": "python",
   "name": "python3"
  },
  "language_info": {
   "codemirror_mode": {
    "name": "ipython",
    "version": 3
   },
   "file_extension": ".py",
   "mimetype": "text/x-python",
   "name": "python",
   "nbconvert_exporter": "python",
   "pygments_lexer": "ipython3",
   "version": "3.9.7"
  },
  "orig_nbformat": 4,
  "vscode": {
   "interpreter": {
    "hash": "bac8260adc00dbd69d681aa4779f87a6ec7fea79df195112900e3ddddfbc35af"
   }
  }
 },
 "nbformat": 4,
 "nbformat_minor": 2
}
