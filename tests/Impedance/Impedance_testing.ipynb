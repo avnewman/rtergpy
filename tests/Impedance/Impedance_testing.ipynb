{
 "cells": [
  {
   "cell_type": "code",
   "execution_count": 1,
   "metadata": {},
   "outputs": [],
   "source": [
    "w=15\n",
    "x=150"
   ]
  },
  {
   "cell_type": "code",
   "execution_count": 2,
   "metadata": {},
   "outputs": [],
   "source": [
    "    from math import pi\n",
    "    import numpy as np\n",
    "    from numpy import array\n",
    "    from scipy.interpolate import interp1d\n",
    "    import sys\n",
    "\n",
    "#  depth constraints for allowing rock parameterization\n",
    "    z0=0\n",
    "    zmax=30.0  # [km] (currently going way beyond our limits) the maximum depth generic rock descp = 8 km\n",
    "    zmax=8.0   # [km] this is the max depth of the generic rock description \n",
    "    nsteps=500 # number of points to predefine parameters with. should be 100-500. Omega will be picked from\n",
    "               # an iteration.\n",
    "               "
   ]
  },
  {
   "cell_type": "code",
   "execution_count": 3,
   "metadata": {},
   "outputs": [
    {
     "name": "stdout",
     "output_type": "stream",
     "text": [
      "66 1.0581162324649298 2.3941783281586875 15.043066094254451 0.10441995780333947 2709.3736517912926\n"
     ]
    },
    {
     "name": "stderr",
     "output_type": "stream",
     "text": [
      "/Users/anewman/opt/anaconda3/lib/python3.7/site-packages/ipykernel_launcher.py:45: RuntimeWarning: divide by zero encountered in true_divide\n"
     ]
    }
   ],
   "source": [
    "def genrockbeta(z):\n",
    "    from numpy import array\n",
    "    beta=np.zeros(z.size)\n",
    "    Beta=np.array([\n",
    "        [   0.,  .001,  .245,    0],\n",
    "        [ .001,   .03, 2.206, .272],\n",
    "        [ .030,  .190, 3.542, .407],\n",
    "        [ .190, 4.000, 2.505, .199],\n",
    "        [4.000, 8.000, 2.927, .086]])  #// Table 1 from Boore and Joyner 1997 (Generic Rock Shear velocity)\n",
    "       # zmin, zmax, beta_0, ^exponent:   solution in km/s\n",
    "    i=0\n",
    "    for zi in np.nditer(z):\n",
    "        if zi <= Beta[0,1]:\n",
    "            beta[i]=Beta[0,2]*zi**Beta[0,3]\n",
    "        elif zi <= Beta [1,1]:\n",
    "            beta[i]=Beta[1,2]*zi**Beta[1,3]\n",
    "        elif zi <= Beta [2,1]:\n",
    "            beta[i]=Beta[2,2]*zi**Beta[2,3]\n",
    "        elif zi <= Beta [3,1]:\n",
    "            beta[i]=Beta[3,2]*zi**Beta[3,3]\n",
    "        elif zi <= Beta [4,1]:\n",
    "            beta[i]=Beta[4,2]*zi**Beta[4,3]\n",
    "        else:\n",
    "            beta[i]=Beta[4,2]*zi**Beta[4,3]  #extrapolate just don't use for very long periods\n",
    "            #sys.exit(\"Frequency out of range.\")\n",
    "        i += 1  # pythons way\n",
    "    return beta\n",
    "\n",
    "def id_nearest(array,value):      # reports index nearest value from array\n",
    "    idx = (np.abs(array - value)).argmin()\n",
    "    return idx\n",
    "\n",
    "# a number of numpy arrays to be populated with generic rock informaiton\n",
    "z=np.linspace(z0,zmax,nsteps,endpoint=True)  # create a priori linear distribution.\n",
    "beta=np.zeros(z.size)\n",
    "tp=np.zeros(z.size)\n",
    "omega=np.zeros(z.size)\n",
    "f=np.zeros(z.size)\n",
    "t_over4=np.zeros(z.size)\n",
    "density=np.zeros(z.size)\n",
    "\n",
    "beta=genrockbeta(z)  # call local program to calculate velocity profile for range of depths\n",
    "tp=z/beta           # period for those ranges\n",
    "t_over4=tp/4.       # quarter wavelength window. (quarter period in Boatwright/Boore lingo)\n",
    "f=1./tp             # Frequency (have to put that factor of 4 back in..)\n",
    "f[0]=1.e8           #  fix NaN\n",
    "omega=2.*pi*f       # angular frequency\n",
    "density=(2.5+(beta-0.3)*((2.8-2.5)/(3.5-0.3)))*1000. # ugly equation from Boore and Joyner\n",
    "#print(z,beta,t_over4,tp,f,omega)  # (worth freq/z relationzhip)\n",
    "idx=id_nearest(omega,w)\n",
    "print(idx,z[idx],f[idx],omega[idx],t_over4[idx],density[idx])\n",
    "\n",
    "dz=np.diff(z) # is constant (or better be)\n",
    "\n",
    "imp = z[idx]*(np.sum(dz[:idx]/(density[:idx]*beta[:idx]))**-1) # //TODO right now z, dz in km (cancel out), density (kg/m3), beta in m/s\n"
   ]
  },
  {
   "cell_type": "code",
   "execution_count": 4,
   "metadata": {},
   "outputs": [
    {
     "name": "stdout",
     "output_type": "stream",
     "text": [
      "2.533318952440455 1.0581162324649298 2709.3736517912926 15 2.3941783281586875 4650.05412846233\n"
     ]
    },
    {
     "data": {
      "text/plain": [
       "4650.05412846233"
      ]
     },
     "execution_count": 4,
     "metadata": {},
     "output_type": "execute_result"
    }
   ],
   "source": [
    "print(beta[idx],z[idx],density[idx],w,f[idx],imp)\n",
    "z[idx]*(np.sum(dz[:idx]/(density[:idx]*beta[:idx]))**-1)"
   ]
  },
  {
   "cell_type": "code",
   "execution_count": 5,
   "metadata": {},
   "outputs": [
    {
     "data": {
      "image/png": "[encoded data removed]",
      "text/plain": [
       "<Figure size 432x288 with 2 Axes>"
      ]
     },
     "metadata": {
      "needs_background": "light"
     },
     "output_type": "display_data"
    }
   ],
   "source": [
    "import matplotlib.pyplot as plt\n",
    "fig,ax1=plt.subplots()\n",
    "color='tab:red'\n",
    "ax1.set_xlabel('depth[km]')\n",
    "ax1.set_ylabel('angular frequency [hz]',color=color)\n",
    "plt.yscale('log')\n",
    "ax1.plot(z,omega, color=color, label='angular frequency [hz]', linewidth=1)\n",
    "ax1.tick_params(axis='y', labelcolor=color)\n",
    "\n",
    "ax2=ax1.twinx()\n",
    "color='tab:blue'\n",
    "ax2.set_ylabel('T/4 [s]',color=color)\n",
    "ax2.plot(z,t_over4, color=color, label='T/4 [s]', linewidth=1)\n",
    "ax2.tick_params(axis='y',labelcolor=color)\n",
    "\n",
    "fig.tight_layout()\n",
    "plt.show()"
   ]
  },
  {
   "cell_type": "code",
   "execution_count": 6,
   "metadata": {},
   "outputs": [
    {
     "name": "stdout",
     "output_type": "stream",
     "text": [
      "[1.00000000e-02 1.09749877e-02 1.20450354e-02 1.32194115e-02\n",
      " 1.45082878e-02 1.59228279e-02 1.74752840e-02 1.91791026e-02\n",
      " 2.10490414e-02 2.31012970e-02 2.53536449e-02 2.78255940e-02\n",
      " 3.05385551e-02 3.35160265e-02 3.67837977e-02 4.03701726e-02\n",
      " 4.43062146e-02 4.86260158e-02 5.33669923e-02 5.85702082e-02\n",
      " 6.42807312e-02 7.05480231e-02 7.74263683e-02 8.49753436e-02\n",
      " 9.32603347e-02 1.02353102e-01 1.12332403e-01 1.23284674e-01\n",
      " 1.35304777e-01 1.48496826e-01 1.62975083e-01 1.78864953e-01\n",
      " 1.96304065e-01 2.15443469e-01 2.36448941e-01 2.59502421e-01\n",
      " 2.84803587e-01 3.12571585e-01 3.43046929e-01 3.76493581e-01\n",
      " 4.13201240e-01 4.53487851e-01 4.97702356e-01 5.46227722e-01\n",
      " 5.99484250e-01 6.57933225e-01 7.22080902e-01 7.92482898e-01\n",
      " 8.69749003e-01 9.54548457e-01 1.04761575e+00 1.14975700e+00\n",
      " 1.26185688e+00 1.38488637e+00 1.51991108e+00 1.66810054e+00\n",
      " 1.83073828e+00 2.00923300e+00 2.20513074e+00 2.42012826e+00\n",
      " 2.65608778e+00 2.91505306e+00 3.19926714e+00 3.51119173e+00\n",
      " 3.85352859e+00 4.22924287e+00 4.64158883e+00 5.09413801e+00\n",
      " 5.59081018e+00 6.13590727e+00 6.73415066e+00 7.39072203e+00\n",
      " 8.11130831e+00 8.90215085e+00 9.77009957e+00 1.07226722e+01\n",
      " 1.17681195e+01 1.29154967e+01 1.41747416e+01 1.55567614e+01\n",
      " 1.70735265e+01 1.87381742e+01 2.05651231e+01 2.25701972e+01\n",
      " 2.47707636e+01 2.71858824e+01 2.98364724e+01 3.27454916e+01\n",
      " 3.59381366e+01 3.94420606e+01 4.32876128e+01 4.75081016e+01\n",
      " 5.21400829e+01 5.72236766e+01 6.28029144e+01 6.89261210e+01\n",
      " 7.56463328e+01 8.30217568e+01 9.11162756e+01 1.00000000e+02] [1.59154943e-03 1.74672354e-03 1.91702692e-03 2.10393468e-03\n",
      " 2.30906572e-03 2.53419677e-03 2.78127783e-03 3.05244899e-03\n",
      " 3.35005899e-03 3.67668561e-03 4.03515792e-03 4.42858083e-03\n",
      " 4.86036200e-03 5.33424129e-03 5.85432323e-03 6.42511252e-03\n",
      " 7.05155306e-03 7.73907078e-03 8.49362062e-03 9.32173815e-03\n",
      " 1.02305961e-02 1.12280666e-02 1.23227892e-02 1.35242460e-02\n",
      " 1.48428433e-02 1.62900022e-02 1.78782573e-02 1.96213653e-02\n",
      " 2.15344242e-02 2.36340039e-02 2.59382901e-02 2.84672414e-02\n",
      " 3.12427623e-02 3.42888930e-02 3.76320178e-02 4.13010931e-02\n",
      " 4.53278987e-02 4.97473128e-02 5.45976144e-02 5.99208144e-02\n",
      " 6.57630198e-02 7.21748331e-02 7.92117902e-02 8.69348420e-02\n",
      " 9.54108817e-02 1.04713325e-01 1.14922745e-01 1.26127571e-01\n",
      " 1.38424853e-01 1.51921105e-01 1.66733226e-01 1.82989509e-01\n",
      " 2.00830760e-01 2.20411512e-01 2.41901362e-01 2.65486446e-01\n",
      " 2.91371047e-01 3.19779364e-01 3.50957457e-01 3.85175376e-01\n",
      " 4.22729500e-01 4.63945104e-01 5.09179179e-01 5.58823521e-01\n",
      " 6.13308124e-01 6.73104909e-01 7.38731807e-01 8.10757246e-01\n",
      " 8.89805076e-01 9.76559973e-01 1.07177336e+00 1.17626994e+00\n",
      " 1.29095481e+00 1.41682131e+00 1.55495964e+00 1.70656629e+00\n",
      " 1.87295439e+00 2.05556513e+00 2.25598020e+00 2.47593548e+00\n",
      " 2.71733613e+00 2.98227305e+00 3.27304099e+00 3.59215845e+00\n",
      " 3.94238946e+00 4.32676757e+00 4.74862207e+00 5.21160686e+00\n",
      " 5.71973209e+00 6.27739891e+00 6.88943755e+00 7.56114921e+00\n",
      " 8.29835192e+00 9.10743099e+00 9.99539427e+00 1.09699329e+01\n",
      " 1.20394878e+01 1.32133230e+01 1.45016057e+01 1.59154943e+01] [9719.43836595 9719.43836595 9719.43836595 9719.43836595 9719.43836595\n",
      " 9719.43836595 9719.43836595 9719.43836595 9719.43836595 9719.43836595\n",
      " 9719.43836595 9719.43836595 9719.43836595 9719.43836595 9719.43836595\n",
      " 9719.43836595 9719.43836595 9719.43836595 9719.43836595 9719.43836595\n",
      " 9719.43836595 9719.43836595 9719.43836595 9719.43836595 9719.43836595\n",
      " 9719.43836595 9719.43836595 9719.43836595 9719.43836595 9719.43836595\n",
      " 9719.43836595 9719.43836595 9719.43836595 9654.58984754 9527.41486336\n",
      " 9399.11377499 9269.31921448 9138.40517568 9005.68670592 8871.30251605\n",
      " 8733.91612992 8594.68603955 8453.50068099 8307.96384564 8161.3769248\n",
      " 8010.82466756 7857.61563683 7700.32384749 7540.46745525 7375.9449786\n",
      " 7208.26706745 7039.70910801 6860.83116618 6665.68190919 6465.09211529\n",
      " 6276.68402815 6077.62502061 5887.20007196 5698.59060308 5514.28598683\n",
      " 5337.62533181 5157.1401858  4973.31975873 4806.58412374 4621.3960572\n",
      " 4461.47812879 4284.1467393  4114.8764911  3958.6404969  3785.22470785\n",
      " 3631.17942206 3460.16260971 3318.19706004 3161.76061367 2987.47496911\n",
      " 2859.11803908 2718.90412311 2564.38140395 2392.25338445 2299.24220052\n",
      " 2099.4877644  1991.34173813 1753.40642086 1620.4981139  1475.13746422\n",
      " 1475.13746422 1313.47121879 1129.21765375 1129.21765375 1129.21765375\n",
      "  910.85275872  910.85275872  910.85275872  910.85275872  611.23671875\n",
      "  611.23671875  611.23671875  611.23671875  611.23671875  611.23671875] [0.00712569 0.00712569 0.00712569 0.00712569 0.00712569 0.00712569\n",
      " 0.00712569 0.00712569 0.00712569 0.00712569 0.00712569 0.00712569\n",
      " 0.00712569 0.00712569 0.00712569 0.00712569 0.00712569 0.00712569\n",
      " 0.00712569 0.00712569 0.00712569 0.00712569 0.00712569 0.00712569\n",
      " 0.00712569 0.00712569 0.00712569 0.00712569 0.00712569 0.00712569\n",
      " 0.00712569 0.00712569 0.00712569 0.00707815 0.00698491 0.00689085\n",
      " 0.00679569 0.00669971 0.00660241 0.00650389 0.00640316 0.00630109\n",
      " 0.00619758 0.00609088 0.00598341 0.00587304 0.00576072 0.0056454\n",
      " 0.0055282  0.00540758 0.00528465 0.00516108 0.00502993 0.00488686\n",
      " 0.0047398  0.00460167 0.00445574 0.00431613 0.00417785 0.00404273\n",
      " 0.00391322 0.00378089 0.00364613 0.00352389 0.00338812 0.00327088\n",
      " 0.00314087 0.00301677 0.00290223 0.00277509 0.00266216 0.00253678\n",
      " 0.0024327  0.00231801 0.00219023 0.00209613 0.00199333 0.00188005\n",
      " 0.00175385 0.00168566 0.00153921 0.00145993 0.00128549 0.00118805\n",
      " 0.00108148 0.00108148 0.00096296 0.00082787 0.00082787 0.00082787\n",
      " 0.00066778 0.00066778 0.00066778 0.00066778 0.00044812 0.00044812\n",
      " 0.00044812 0.00044812 0.00044812 0.00044812]\n"
     ]
    },
    {
     "name": "stderr",
     "output_type": "stream",
     "text": [
      "/Users/anewman/opt/anaconda3/lib/python3.7/site-packages/ipykernel_launcher.py:61: RuntimeWarning: divide by zero encountered in true_divide\n"
     ]
    }
   ],
   "source": [
    "w=np.logspace(-2,2,num=100)\n",
    "#w=19\n",
    "\n",
    "from math import pi\n",
    "import numpy as np\n",
    "from numpy import array\n",
    "from scipy.interpolate import interp1d\n",
    "import sys\n",
    "\n",
    "#  depth constraints for allowing rock parameterization\n",
    "z0=0\n",
    "zmax=30.0  # [km] (currently going way beyond our limits) the maximum depth generic rock descp = 8 km\n",
    "zmax=30.0   # [km] this is the max depth of the generic rock description\n",
    "nsteps=2000 # number of points to predefine parameters with. should be 100-500. Omega will be picked from\n",
    "           # an iteration.\n",
    "\n",
    "def genrockbeta(z):\n",
    "    from numpy import array\n",
    "    beta=np.zeros(z.size)\n",
    "    Beta=np.array([\n",
    "        [   0.,  .001,  .245,    0],\n",
    "        [ .001,   .03, 2.206, .272],\n",
    "        [ .030,  .190, 3.542, .407],\n",
    "        [ .190, 4.000, 2.505, .199],\n",
    "        [4.000, 8.000, 2.927, .086]])  #// Table 1 from Boore and Joyner 1997 (Generic Rock Shear velocity)\n",
    "       # zmin, zmax, beta_0, ^exponent:   solution in km/s\n",
    "    i=0\n",
    "    for zi in np.nditer(z):\n",
    "        if zi <= Beta[0,1]:\n",
    "            beta[i]=Beta[0,2]*zi**Beta[0,3]\n",
    "        elif zi <= Beta [1,1]:\n",
    "            beta[i]=Beta[1,2]*zi**Beta[1,3]\n",
    "        elif zi <= Beta [2,1]:\n",
    "            beta[i]=Beta[2,2]*zi**Beta[2,3]\n",
    "        elif zi <= Beta [3,1]:\n",
    "            beta[i]=Beta[3,2]*zi**Beta[3,3]\n",
    "        elif zi <= Beta [4,1]:\n",
    "            beta[i]=Beta[4,2]*zi**Beta[4,3]\n",
    "        else:\n",
    "            beta[i]=Beta[4,2]*zi**Beta[4,3]  #extrapolate just don't use for very long periods\n",
    "            #sys.exit(\"Frequency out of range.\")\n",
    "        i += 1  # pythons way\n",
    "    return beta\n",
    "\n",
    "def id_nearest(array,value):      # reports index nearest value from array\n",
    "    idx = (np.abs(array - value)).argmin()\n",
    "    return idx\n",
    "\n",
    "# a number of numpy arrays to be populated with generic rock informaiton\n",
    "z=np.linspace(z0,zmax,nsteps,endpoint=True)  # create a priori linear distribution.\n",
    "beta=np.zeros(z.size)\n",
    "tp=np.zeros(z.size)\n",
    "omega=np.zeros(z.size)\n",
    "f=np.zeros(z.size)\n",
    "t_over4=np.zeros(z.size)\n",
    "density=np.zeros(z.size)\n",
    "\n",
    "beta=genrockbeta(z)  # call local program to calculate velocity profile for range of depths\n",
    "tp=z/beta           # period for those ranges\n",
    "t_over4=tp/4.       # quarter wavelength window. (quarter period in Boatwright/Boore lingo)\n",
    "f=1./tp             # Frequency (have to put that factor of 4 back in..)\n",
    "f[0]=1.e8           #  fix NaN\n",
    "omega=2.*pi*f       # angular frequency\n",
    "density=(2.5+(beta-0.3)*((2.8-2.5)/(3.5-0.3)))*1000. # ugly equation from Boore and Joyner\n",
    "dz=np.diff(z) # is constant (or better be)\n",
    "#print(z,beta,t_over4,tp,f,omega)  # (worth freq/z relationzhip)\n",
    "\n",
    "if isinstance(w, (int, float)):\n",
    "    idx=id_nearest(omega,w*4)\n",
    "    imp = z[idx]*(np.sum(dz[:idx]/(density[:idx]*beta[:idx]))**-1) # //TODO right now z, dz in km (cancel out), density (kg/m3), beta in m/s\n",
    "    #print(idx,z[idx],f[idx],omega[idx],t_over4[idx],density[idx], imp)\n",
    "\n",
    "elif len(w) > 1:\n",
    "    imp=np.zeros(w.size)\n",
    "    i=0\n",
    "    for wi in np.nditer(w):\n",
    "        idx=id_nearest(omega,wi*4)\n",
    "        #print(idx)\n",
    "        imp[i]=z[idx]*(np.sum(dz[:idx]/(density[:idx]*beta[:idx]))**-1) # //TODO right now z, dz in km (cancel out), density (kg/m3), beta in m/s\n",
    "        i+=1\n",
    "\n",
    "print(w,w/2/pi,imp,imp/620/2200)\n"
   ]
  },
  {
   "cell_type": "code",
   "execution_count": 7,
   "metadata": {},
   "outputs": [
    {
     "name": "stdout",
     "output_type": "stream",
     "text": [
      "10 2910.00783036729\n"
     ]
    },
    {
     "name": "stderr",
     "output_type": "stream",
     "text": [
      "/Users/anewman/Documents/Projects/NukeDetection/Impedance/imp_bojoy.py:108: RuntimeWarning: divide by zero encountered in true_divide\n",
      "  f=1./tp             # Frequency (have to put that factor of 4 back in..)\n"
     ]
    }
   ],
   "source": [
    "import numpy as np\n",
    "from imp_bojoy import imp_bojoy\n",
    "ws=np.logspace(-2,2,num=100)\n",
    "w=10\n",
    "imps=imp_bojoy(w)\n",
    "print(w,imps)"
   ]
  },
  {
   "cell_type": "code",
   "execution_count": 105,
   "metadata": {},
   "outputs": [
    {
     "name": "stdout",
     "output_type": "stream",
     "text": [
      "138.21992430240695 475.36065545760084\n"
     ]
    }
   ],
   "source": [
    "f=2\n",
    "print(1/(0.012*f**-.73),400*(f/1.5)**0.6)"
   ]
  },
  {
   "cell_type": "code",
   "execution_count": 1,
   "metadata": {},
   "outputs": [
    {
     "ename": "NameError",
     "evalue": "name 'f' is not defined",
     "output_type": "error",
     "traceback": [
      "\u001b[0;31m---------------------------------------------------------------------------\u001b[0m",
      "\u001b[0;31mNameError\u001b[0m                                 Traceback (most recent call last)",
      "\u001b[0;32m<ipython-input-1-fc0364975534>\u001b[0m in \u001b[0;36m<module>\u001b[0;34m\u001b[0m\n\u001b[0;32m----> 1\u001b[0;31m \u001b[0mprint\u001b[0m\u001b[0;34m(\u001b[0m\u001b[0mf\u001b[0m\u001b[0;34m)\u001b[0m\u001b[0;34m\u001b[0m\u001b[0;34m\u001b[0m\u001b[0m\n\u001b[0m",
      "\u001b[0;31mNameError\u001b[0m: name 'f' is not defined"
     ]
    }
   ],
   "source": [
    "print(f)"
   ]
  },
  {
   "cell_type": "code",
   "execution_count": null,
   "metadata": {},
   "outputs": [],
   "source": []
  }
 ],
 "metadata": {
  "kernelspec": {
   "display_name": "Python 3",
   "language": "python",
   "name": "python3"
  },
  "language_info": {
   "codemirror_mode": {
    "name": "ipython",
    "version": 3
   },
   "file_extension": ".py",
   "mimetype": "text/x-python",
   "name": "python",
   "nbconvert_exporter": "python",
   "pygments_lexer": "ipython3",
   "version": "3.7.6"
  }
 },
 "nbformat": 4,
 "nbformat_minor": 2
}
