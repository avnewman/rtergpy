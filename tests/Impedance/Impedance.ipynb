{
 "cells": [
  {
   "cell_type": "code",
   "execution_count": 1,
   "metadata": {},
   "outputs": [
    {
     "ename": "NameError",
     "evalue": "name 'imp_bojoy' is not defined",
     "output_type": "error",
     "traceback": [
      "\u001b[0;31m---------------------------------------------------------------------------\u001b[0m",
      "\u001b[0;31mNameError\u001b[0m                                 Traceback (most recent call last)",
      "\u001b[0;32m<ipython-input-1-bb130febb765>\u001b[0m in \u001b[0;36m<module>\u001b[0;34m\u001b[0m\n\u001b[0;32m----> 1\u001b[0;31m \u001b[0ma\u001b[0m\u001b[0;34m=\u001b[0m\u001b[0mimp_bojoy\u001b[0m\u001b[0;34m(\u001b[0m\u001b[0;36m10000\u001b[0m\u001b[0;34m,\u001b[0m\u001b[0;36m100\u001b[0m\u001b[0;34m)\u001b[0m\u001b[0;34m\u001b[0m\u001b[0;34m\u001b[0m\u001b[0m\n\u001b[0m",
      "\u001b[0;31mNameError\u001b[0m: name 'imp_bojoy' is not defined"
     ]
    }
   ],
   "source": [
    "import_imp_bojo\n",
    "a=imp_bojoy(10000,100)"
   ]
  },
  {
   "cell_type": "code",
   "execution_count": 2,
   "metadata": {},
   "outputs": [],
   "source": [
    "import imp_bojoy"
   ]
  },
  {
   "cell_type": "code",
   "execution_count": 3,
   "metadata": {},
   "outputs": [
    {
     "ename": "TypeError",
     "evalue": "'module' object is not callable",
     "output_type": "error",
     "traceback": [
      "\u001b[0;31m---------------------------------------------------------------------------\u001b[0m",
      "\u001b[0;31mTypeError\u001b[0m                                 Traceback (most recent call last)",
      "\u001b[0;32m<ipython-input-3-bb130febb765>\u001b[0m in \u001b[0;36m<module>\u001b[0;34m\u001b[0m\n\u001b[0;32m----> 1\u001b[0;31m \u001b[0ma\u001b[0m\u001b[0;34m=\u001b[0m\u001b[0mimp_bojoy\u001b[0m\u001b[0;34m(\u001b[0m\u001b[0;36m10000\u001b[0m\u001b[0;34m,\u001b[0m\u001b[0;36m100\u001b[0m\u001b[0;34m)\u001b[0m\u001b[0;34m\u001b[0m\u001b[0;34m\u001b[0m\u001b[0m\n\u001b[0m",
      "\u001b[0;31mTypeError\u001b[0m: 'module' object is not callable"
     ]
    }
   ],
   "source": [
    "a=imp_bojoy(10000,100)"
   ]
  },
  {
   "cell_type": "code",
   "execution_count": 4,
   "metadata": {},
   "outputs": [
    {
     "ename": "NameError",
     "evalue": "name 'w' is not defined",
     "output_type": "error",
     "traceback": [
      "\u001b[0;31m---------------------------------------------------------------------------\u001b[0m",
      "\u001b[0;31mNameError\u001b[0m                                 Traceback (most recent call last)",
      "\u001b[0;32m<ipython-input-4-8b4118b8e92e>\u001b[0m in \u001b[0;36m<module>\u001b[0;34m\u001b[0m\n\u001b[1;32m      4\u001b[0m \u001b[0;34m\u001b[0m\u001b[0m\n\u001b[1;32m      5\u001b[0m \u001b[0mz0\u001b[0m\u001b[0;34m=\u001b[0m\u001b[0;36m0\u001b[0m\u001b[0;34m\u001b[0m\u001b[0;34m\u001b[0m\u001b[0m\n\u001b[0;32m----> 6\u001b[0;31m \u001b[0mT\u001b[0m\u001b[0;34m=\u001b[0m\u001b[0;36m2\u001b[0m\u001b[0;34m*\u001b[0m\u001b[0mpi\u001b[0m\u001b[0;34m/\u001b[0m\u001b[0mw\u001b[0m\u001b[0;34m\u001b[0m\u001b[0;34m\u001b[0m\u001b[0m\n\u001b[0m\u001b[1;32m      7\u001b[0m \u001b[0mzmax\u001b[0m\u001b[0;34m=\u001b[0m\u001b[0mT\u001b[0m\u001b[0;34m/\u001b[0m\u001b[0;36m4\u001b[0m   \u001b[0;31m#Boore and Joyner's depth of penetration.\u001b[0m\u001b[0;34m\u001b[0m\u001b[0;34m\u001b[0m\u001b[0m\n\u001b[1;32m      8\u001b[0m \u001b[0;34m\u001b[0m\u001b[0m\n",
      "\u001b[0;31mNameError\u001b[0m: name 'w' is not defined"
     ]
    }
   ],
   "source": [
    "    from math import pi\n",
    "    import numpy as np\n",
    "\n",
    "\n",
    "    z0=0\n",
    "    T=2*pi/w\n",
    "    zmax=T/4   #Boore and Joyner's depth of penetration.\n",
    "\n",
    "    #from numpy import array\n",
    "    Beta1=(   0.,    1., 245.,    0)\n",
    "    Beta2=(   1.,   30., 2206, .272)\n",
    "    Beta3=(  30.,  190., 3542, .407)\n",
    "    Beta4=( 190., 4000., 2505, .199)\n",
    "    Beta5=(4000., 8000., 2927,.0086)  #// TODO relatively complicated and not that different except for the 4-8 km range . I will choose one and integrate only through it.\n"
   ]
  },
  {
   "cell_type": "code",
   "execution_count": 5,
   "metadata": {},
   "outputs": [],
   "source": [
    "    w=1000"
   ]
  },
  {
   "cell_type": "code",
   "execution_count": 6,
   "metadata": {},
   "outputs": [],
   "source": [
    "    from math import pi\n",
    "    import numpy as np\n",
    "\n",
    "\n",
    "    z0=0\n",
    "    T=2*pi/w\n",
    "    zmax=T/4   #Boore and Joyner's depth of penetration.\n",
    "\n",
    "    #from numpy import array\n",
    "    Beta1=(   0.,    1., 245.,   0.)\n",
    "    Beta2=(   1.,   30., 2206, .272)\n",
    "    Beta3=(  30.,  190., 3542, .407)\n",
    "    Beta4=( 190., 4000., 2505, .199)\n",
    "    Beta5=(4000., 8000., 2927,.0086)  #// TODO relatively complicated and not that different except for the 4-8 km range . I will choose one and integrate only through it.\n"
   ]
  },
  {
   "cell_type": "code",
   "execution_count": 8,
   "metadata": {},
   "outputs": [
    {
     "name": "stdout",
     "output_type": "stream",
     "text": [
      "1.0\n"
     ]
    }
   ],
   "source": [
    "    print(Beta1[1])"
   ]
  },
  {
   "cell_type": "code",
   "execution_count": 9,
   "metadata": {},
   "outputs": [
    {
     "ename": "NameError",
     "evalue": "name 'Beta' is not defined",
     "output_type": "error",
     "traceback": [
      "\u001b[0;31m---------------------------------------------------------------------------\u001b[0m",
      "\u001b[0;31mNameError\u001b[0m                                 Traceback (most recent call last)",
      "\u001b[0;32m<ipython-input-9-ab1607d61c42>\u001b[0m in \u001b[0;36m<module>\u001b[0;34m\u001b[0m\n\u001b[0;32m----> 1\u001b[0;31m Beta.array([\n\u001b[0m\u001b[1;32m      2\u001b[0m     \u001b[0;34m[\u001b[0m   \u001b[0;36m0.\u001b[0m\u001b[0;34m,\u001b[0m    \u001b[0;36m1.\u001b[0m\u001b[0;34m,\u001b[0m \u001b[0;36m245.\u001b[0m\u001b[0;34m,\u001b[0m    \u001b[0;36m0\u001b[0m\u001b[0;34m]\u001b[0m\u001b[0;34m,\u001b[0m\u001b[0;34m\u001b[0m\u001b[0;34m\u001b[0m\u001b[0m\n\u001b[1;32m      3\u001b[0m     \u001b[0;34m[\u001b[0m   \u001b[0;36m1.\u001b[0m\u001b[0;34m,\u001b[0m   \u001b[0;36m30.\u001b[0m\u001b[0;34m,\u001b[0m \u001b[0;36m2206\u001b[0m\u001b[0;34m,\u001b[0m \u001b[0;36m.272\u001b[0m\u001b[0;34m]\u001b[0m\u001b[0;34m,\u001b[0m\u001b[0;34m\u001b[0m\u001b[0;34m\u001b[0m\u001b[0m\n\u001b[1;32m      4\u001b[0m     \u001b[0;34m[\u001b[0m  \u001b[0;36m30.\u001b[0m\u001b[0;34m,\u001b[0m  \u001b[0;36m190.\u001b[0m\u001b[0;34m,\u001b[0m \u001b[0;36m3542\u001b[0m\u001b[0;34m,\u001b[0m \u001b[0;36m.407\u001b[0m\u001b[0;34m]\u001b[0m\u001b[0;34m,\u001b[0m\u001b[0;34m\u001b[0m\u001b[0;34m\u001b[0m\u001b[0m\n\u001b[1;32m      5\u001b[0m     \u001b[0;34m[\u001b[0m \u001b[0;36m190.\u001b[0m\u001b[0;34m,\u001b[0m \u001b[0;36m4000.\u001b[0m\u001b[0;34m,\u001b[0m \u001b[0;36m2505\u001b[0m\u001b[0;34m,\u001b[0m \u001b[0;36m.199\u001b[0m\u001b[0;34m]\u001b[0m\u001b[0;34m,\u001b[0m\u001b[0;34m\u001b[0m\u001b[0;34m\u001b[0m\u001b[0m\n",
      "\u001b[0;31mNameError\u001b[0m: name 'Beta' is not defined"
     ]
    }
   ],
   "source": [
    "    Beta.array([\n",
    "        [   0.,    1., 245.,    0],\n",
    "        [   1.,   30., 2206, .272],\n",
    "        [  30.,  190., 3542, .407],\n",
    "        [ 190., 4000., 2505, .199],\n",
    "        [4000., 8000., 2927,.0086]])"
   ]
  },
  {
   "cell_type": "code",
   "execution_count": 10,
   "metadata": {},
   "outputs": [],
   "source": [
    "from numpy import array\n"
   ]
  },
  {
   "cell_type": "code",
   "execution_count": 11,
   "metadata": {},
   "outputs": [
    {
     "ename": "NameError",
     "evalue": "name 'Beta' is not defined",
     "output_type": "error",
     "traceback": [
      "\u001b[0;31m---------------------------------------------------------------------------\u001b[0m",
      "\u001b[0;31mNameError\u001b[0m                                 Traceback (most recent call last)",
      "\u001b[0;32m<ipython-input-11-6cc807fbc965>\u001b[0m in \u001b[0;36m<module>\u001b[0;34m\u001b[0m\n\u001b[0;32m----> 1\u001b[0;31m Beta.array([\n\u001b[0m\u001b[1;32m      2\u001b[0m     \u001b[0;34m[\u001b[0m   \u001b[0;36m0.\u001b[0m\u001b[0;34m,\u001b[0m    \u001b[0;36m1.\u001b[0m\u001b[0;34m,\u001b[0m \u001b[0;36m245.\u001b[0m\u001b[0;34m,\u001b[0m    \u001b[0;36m0\u001b[0m\u001b[0;34m]\u001b[0m\u001b[0;34m,\u001b[0m\u001b[0;34m\u001b[0m\u001b[0;34m\u001b[0m\u001b[0m\n\u001b[1;32m      3\u001b[0m     \u001b[0;34m[\u001b[0m   \u001b[0;36m1.\u001b[0m\u001b[0;34m,\u001b[0m   \u001b[0;36m30.\u001b[0m\u001b[0;34m,\u001b[0m \u001b[0;36m2206\u001b[0m\u001b[0;34m,\u001b[0m \u001b[0;36m.272\u001b[0m\u001b[0;34m]\u001b[0m\u001b[0;34m,\u001b[0m\u001b[0;34m\u001b[0m\u001b[0;34m\u001b[0m\u001b[0m\n\u001b[1;32m      4\u001b[0m     \u001b[0;34m[\u001b[0m  \u001b[0;36m30.\u001b[0m\u001b[0;34m,\u001b[0m  \u001b[0;36m190.\u001b[0m\u001b[0;34m,\u001b[0m \u001b[0;36m3542\u001b[0m\u001b[0;34m,\u001b[0m \u001b[0;36m.407\u001b[0m\u001b[0;34m]\u001b[0m\u001b[0;34m,\u001b[0m\u001b[0;34m\u001b[0m\u001b[0;34m\u001b[0m\u001b[0m\n\u001b[1;32m      5\u001b[0m     \u001b[0;34m[\u001b[0m \u001b[0;36m190.\u001b[0m\u001b[0;34m,\u001b[0m \u001b[0;36m4000.\u001b[0m\u001b[0;34m,\u001b[0m \u001b[0;36m2505\u001b[0m\u001b[0;34m,\u001b[0m \u001b[0;36m.199\u001b[0m\u001b[0;34m]\u001b[0m\u001b[0;34m,\u001b[0m\u001b[0;34m\u001b[0m\u001b[0;34m\u001b[0m\u001b[0m\n",
      "\u001b[0;31mNameError\u001b[0m: name 'Beta' is not defined"
     ]
    }
   ],
   "source": [
    "    Beta.array([\n",
    "        [   0.,    1., 245.,    0],\n",
    "        [   1.,   30., 2206, .272],\n",
    "        [  30.,  190., 3542, .407],\n",
    "        [ 190., 4000., 2505, .199],\n",
    "        [4000., 8000., 2927,.0086]])\n",
    "    "
   ]
  },
  {
   "cell_type": "code",
   "execution_count": 12,
   "metadata": {},
   "outputs": [],
   "source": [
    "Beta=np.array([\n",
    "        [   0.,    1., 245.,    0],\n",
    "        [   1.,   30., 2206, .272],\n",
    "        [  30.,  190., 3542, .407],\n",
    "        [ 190., 4000., 2505, .199],\n",
    "        [4000., 8000., 2927, .086]]) "
   ]
  },
  {
   "cell_type": "code",
   "execution_count": 15,
   "metadata": {},
   "outputs": [
    {
     "data": {
      "text/plain": [
       "array([0.00408163, 0.01359927, 0.05364201, 1.59680639, 2.7331739 ])"
      ]
     },
     "execution_count": 15,
     "metadata": {},
     "output_type": "execute_result"
    }
   ],
   "source": [
    "Beta[:,1]/Beta[:,2]"
   ]
  },
  {
   "cell_type": "code",
   "execution_count": 16,
   "metadata": {},
   "outputs": [],
   "source": [
    "w=2*pi"
   ]
  },
  {
   "cell_type": "code",
   "execution_count": 17,
   "metadata": {},
   "outputs": [
    {
     "name": "stdout",
     "output_type": "stream",
     "text": [
      "6.283185307179586\n"
     ]
    }
   ],
   "source": [
    "print(w)"
   ]
  },
  {
   "cell_type": "code",
   "execution_count": 18,
   "metadata": {},
   "outputs": [],
   "source": [
    "    T=2*pi/w"
   ]
  },
  {
   "cell_type": "code",
   "execution_count": 19,
   "metadata": {},
   "outputs": [
    {
     "name": "stdout",
     "output_type": "stream",
     "text": [
      "1.0\n"
     ]
    }
   ],
   "source": [
    "print(T)"
   ]
  },
  {
   "cell_type": "code",
   "execution_count": 24,
   "metadata": {},
   "outputs": [
    {
     "name": "stdout",
     "output_type": "stream",
     "text": [
      "[  15006.25 1216609.   3136441.   1568756.25 2141832.25]\n"
     ]
    }
   ],
   "source": [
    "print(T/4*Beta[:,2]**2)"
   ]
  },
  {
   "cell_type": "code",
   "execution_count": 27,
   "metadata": {},
   "outputs": [
    {
     "name": "stdout",
     "output_type": "stream",
     "text": [
      "[  61.25       1929.94759616 5770.16942941 1565.84128276  761.31209781]\n"
     ]
    }
   ],
   "source": [
    "z=T/4*100\n",
    "print(Beta[:,2]*z**Beta[:,3])"
   ]
  },
  {
   "cell_type": "code",
   "execution_count": 47,
   "metadata": {},
   "outputs": [
    {
     "name": "stdout",
     "output_type": "stream",
     "text": [
      "3162.199723223822\n"
     ]
    }
   ],
   "source": [
    "print(Beta[4,2]*Beta[4,1]**Beta[4,3])   # 4-8 km layer"
   ]
  },
  {
   "cell_type": "code",
   "execution_count": 32,
   "metadata": {},
   "outputs": [
    {
     "name": "stdout",
     "output_type": "stream",
     "text": [
      "1.0\n"
     ]
    }
   ],
   "source": [
    "print(T)"
   ]
  },
  {
   "cell_type": "code",
   "execution_count": 53,
   "metadata": {},
   "outputs": [],
   "source": [
    "    Beta=np.array([\n",
    "        [   0.,  .001,  .245,    0],\n",
    "        [ .001,   .03, 2.206, .272],\n",
    "        [ .030,  .190, 3.542, .407],\n",
    "        [ .190, 4.000, 2.505, .199],\n",
    "        [4.000, 8.000, 2.927, .086]])  #// TODO relatively complicated and not that different except for the 4-8 km range . I will choose one and integrate only through it.\n",
    "       # solution in km/s\n",
    "        "
   ]
  },
  {
   "cell_type": "code",
   "execution_count": 49,
   "metadata": {},
   "outputs": [
    {
     "name": "stdout",
     "output_type": "stream",
     "text": [
      "3.5001645451637153\n"
     ]
    }
   ],
   "source": [
    "print(Beta[4,2]*Beta[4,1]**Beta[4,3]) \n"
   ]
  },
  {
   "cell_type": "code",
   "execution_count": 50,
   "metadata": {},
   "outputs": [
    {
     "name": "stdout",
     "output_type": "stream",
     "text": [
      "3.2976144818115367\n"
     ]
    }
   ],
   "source": [
    "print(Beta[4,2]*Beta[4,0]**Beta[4,3]) "
   ]
  },
  {
   "cell_type": "code",
   "execution_count": 51,
   "metadata": {},
   "outputs": [
    {
     "name": "stdout",
     "output_type": "stream",
     "text": [
      "3.2976144818115367\n"
     ]
    }
   ],
   "source": [
    "print(Beta[4,2]*Beta[3,1]**Beta[4,3]) "
   ]
  },
  {
   "cell_type": "code",
   "execution_count": 54,
   "metadata": {},
   "outputs": [
    {
     "name": "stdout",
     "output_type": "stream",
     "text": [
      "0.0\n",
      "1.6159306647747769\n",
      "1.6159306647747769\n",
      "2.1649862892841223\n",
      "2.1649862892841223\n",
      "2.5374385413655527\n",
      "2.5374385413655527\n",
      "3.2976144818115367\n",
      "3.2976144818115367\n",
      "3.5001645451637153\n"
     ]
    }
   ],
   "source": [
    "print(Beta[4,2]*Beta[0,0]**Beta[4,3]) \n",
    "print(Beta[4,2]*Beta[0,1]**Beta[4,3]) \n",
    "print(Beta[4,2]*Beta[1,0]**Beta[4,3]) \n",
    "print(Beta[4,2]*Beta[1,1]**Beta[4,3]) \n",
    "print(Beta[4,2]*Beta[2,0]**Beta[4,3]) \n",
    "print(Beta[4,2]*Beta[2,1]**Beta[4,3]) \n",
    "print(Beta[4,2]*Beta[3,0]**Beta[4,3]) \n",
    "print(Beta[4,2]*Beta[3,1]**Beta[4,3]) \n",
    "print(Beta[4,2]*Beta[4,0]**Beta[4,3]) \n",
    "print(Beta[4,2]*Beta[4,1]**Beta[4,3]) \n"
   ]
  },
  {
   "cell_type": "code",
   "execution_count": 58,
   "metadata": {},
   "outputs": [
    {
     "ename": "SyntaxError",
     "evalue": "can't assign to function call (<ipython-input-58-ed30df720a8d>, line 30)",
     "output_type": "error",
     "traceback": [
      "\u001b[0;36m  File \u001b[0;32m\"<ipython-input-58-ed30df720a8d>\"\u001b[0;36m, line \u001b[0;32m30\u001b[0m\n\u001b[0;31m    bta([i])=Beta[4,2]*zi**Beta[4,3]\u001b[0m\n\u001b[0m    ^\u001b[0m\n\u001b[0;31mSyntaxError\u001b[0m\u001b[0;31m:\u001b[0m can't assign to function call\n"
     ]
    }
   ],
   "source": [
    "    z0=0\n",
    "    T=2*pi/w\n",
    "    zmax=T/4   # // TODO this isn't correct. needs to be divide by velocity  #Boore and Joyner's depth of penetration.\n",
    "\n",
    "\n",
    "    Beta=np.array([\n",
    "        [   0.,  .001,  .245,    0],\n",
    "        [ .001,   .03, 2.206, .272],\n",
    "        [ .030,  .190, 3.542, .407],\n",
    "        [ .190, 4.000, 2.505, .199],\n",
    "        [4.000, 8.000, 2.927, .086]])  #// Table 1 from Boore and Joyner 1997 (Generic Rock Shear velocity)\n",
    "       # zmin, zmax, beta_0, ^exponent:   solution in km/s\n",
    "       # beta=Beta[4,2]*z**Beta[4,3]\n",
    "       #z=T/4*Beta[0,2]*((Beta[0,1]-Beta[0,0])/2)    # approx if we are to go direct.\n",
    "    # create lookup array as a function of z\n",
    "    z=np.linspace(z0,Beta[4,1],50,endpoint=True)\n",
    "    bta=np.zeros(z.size)\n",
    "    i=0\n",
    "    for zi in np.nditer(z):\n",
    "        i=i+1\n",
    "        if zi < Beta[0,1]:\n",
    "            bta([i])=Beta[0,2]*zi**Beta[0,3]\n",
    "        elif zi < Beta [1,1]:\n",
    "            bta([i])=Beta[1,2]*zi**Beta[1,3]\n",
    "        elif zi < Beta [2,1]:\n",
    "            bta([i])=Beta[2,2]*zi**Beta[2,3]\n",
    "        elif zi < Beta [3,1]:\n",
    "            bta([i])=Beta[3,2]*zi**Beta[3,3]\n",
    "        elif zi < Beta [4,1]:\n",
    "            bta([i])=Beta[4,2]*zi**Beta[4,3]\n",
    "        else:\n",
    "            sys.exit(\"Frequency out of range.\")\n",
    "\n",
    "            "
   ]
  },
  {
   "cell_type": "code",
   "execution_count": 61,
   "metadata": {},
   "outputs": [],
   "source": [
    "    Beta=np.array([\n",
    "        [   0.,  .001,  .245,    0],\n",
    "        [ .001,   .03, 2.206, .272],\n",
    "        [ .030,  .190, 3.542, .407],\n",
    "        [ .190, 4.000, 2.505, .199],\n",
    "        [4.000, 8.000, 2.927, .086]])  #// Table 1 from Boore and Joyner 1997 (Generic Rock Shear velocity)\n",
    "       # zmin, zmax, beta_0, ^exponent:   solution in km/s\n",
    "       # beta=Beta[4,2]*z**Beta[4,3]\n",
    "       #z=T/4*Beta[0,2]*((Beta[0,1]-Beta[0,0])/2)    # approx if we are to go direct.\n",
    "    # create lookup array as a function of z\n",
    "    z=np.linspace(z0,Beta[4,1],50,endpoint=True)\n",
    "    bta=np.zeros(z.size)"
   ]
  },
  {
   "cell_type": "code",
   "execution_count": 69,
   "metadata": {},
   "outputs": [
    {
     "name": "stdout",
     "output_type": "stream",
     "text": [
      "[0.         0.16326531 0.32653061 0.48979592 0.65306122 0.81632653\n",
      " 0.97959184 1.14285714 1.30612245 1.46938776 1.63265306 1.79591837\n",
      " 1.95918367 2.12244898 2.28571429 2.44897959 2.6122449  2.7755102\n",
      " 2.93877551 3.10204082 3.26530612 3.42857143 3.59183673 3.75510204\n",
      " 3.91836735 4.08163265 4.24489796 4.40816327 4.57142857 4.73469388\n",
      " 4.89795918 5.06122449 5.2244898  5.3877551  5.55102041 5.71428571\n",
      " 5.87755102 6.04081633 6.20408163 6.36734694 6.53061224 6.69387755\n",
      " 6.85714286 7.02040816 7.18367347 7.34693878 7.51020408 7.67346939\n",
      " 7.83673469 8.        ]\n"
     ]
    }
   ],
   "source": [
    "print(z)"
   ]
  },
  {
   "cell_type": "code",
   "execution_count": 63,
   "metadata": {},
   "outputs": [],
   "source": [
    "bta[1]=1"
   ]
  },
  {
   "cell_type": "code",
   "execution_count": 70,
   "metadata": {
    "scrolled": true
   },
   "outputs": [
    {
     "name": "stdout",
     "output_type": "stream",
     "text": [
      "0.0\n",
      "0.16326530612244897\n",
      "0.32653061224489793\n",
      "0.4897959183673469\n",
      "0.6530612244897959\n",
      "0.8163265306122448\n",
      "0.9795918367346939\n",
      "1.1428571428571428\n",
      "1.3061224489795917\n",
      "1.4693877551020407\n",
      "1.6326530612244896\n",
      "1.7959183673469385\n",
      "1.9591836734693877\n",
      "2.1224489795918364\n",
      "2.2857142857142856\n",
      "2.4489795918367343\n",
      "2.6122448979591835\n",
      "2.7755102040816326\n",
      "2.9387755102040813\n",
      "3.1020408163265305\n",
      "3.265306122448979\n",
      "3.4285714285714284\n",
      "3.591836734693877\n",
      "3.7551020408163263\n",
      "3.9183673469387754\n",
      "4.081632653061225\n",
      "4.244897959183673\n",
      "4.408163265306122\n",
      "4.571428571428571\n",
      "4.73469387755102\n",
      "4.897959183673469\n",
      "5.061224489795918\n",
      "5.224489795918367\n",
      "5.387755102040816\n",
      "5.551020408163265\n",
      "5.7142857142857135\n",
      "5.877551020408163\n",
      "6.040816326530612\n",
      "6.204081632653061\n",
      "6.367346938775509\n",
      "6.530612244897958\n",
      "6.693877551020408\n",
      "6.857142857142857\n",
      "7.020408163265306\n",
      "7.183673469387754\n",
      "7.346938775510203\n",
      "7.5102040816326525\n",
      "7.673469387755102\n",
      "7.836734693877551\n",
      "8.0\n"
     ]
    },
    {
     "ename": "IndexError",
     "evalue": "index 50 is out of bounds for axis 0 with size 50",
     "output_type": "error",
     "traceback": [
      "\u001b[0;31m---------------------------------------------------------------------------\u001b[0m",
      "\u001b[0;31mIndexError\u001b[0m                                Traceback (most recent call last)",
      "\u001b[0;32m<ipython-input-70-11ee5a6b7fbc>\u001b[0m in \u001b[0;36m<module>\u001b[0;34m\u001b[0m\n\u001b[1;32m     24\u001b[0m         \u001b[0mbeta\u001b[0m\u001b[0;34m[\u001b[0m\u001b[0mi\u001b[0m\u001b[0;34m]\u001b[0m\u001b[0;34m=\u001b[0m\u001b[0mBeta\u001b[0m\u001b[0;34m[\u001b[0m\u001b[0;36m3\u001b[0m\u001b[0;34m,\u001b[0m\u001b[0;36m2\u001b[0m\u001b[0;34m]\u001b[0m\u001b[0;34m*\u001b[0m\u001b[0mzi\u001b[0m\u001b[0;34m**\u001b[0m\u001b[0mBeta\u001b[0m\u001b[0;34m[\u001b[0m\u001b[0;36m3\u001b[0m\u001b[0;34m,\u001b[0m\u001b[0;36m3\u001b[0m\u001b[0;34m]\u001b[0m\u001b[0;34m\u001b[0m\u001b[0;34m\u001b[0m\u001b[0m\n\u001b[1;32m     25\u001b[0m     \u001b[0;32melif\u001b[0m \u001b[0mzi\u001b[0m \u001b[0;34m<=\u001b[0m \u001b[0mBeta\u001b[0m \u001b[0;34m[\u001b[0m\u001b[0;36m4\u001b[0m\u001b[0;34m,\u001b[0m\u001b[0;36m1\u001b[0m\u001b[0;34m]\u001b[0m\u001b[0;34m:\u001b[0m\u001b[0;34m\u001b[0m\u001b[0;34m\u001b[0m\u001b[0m\n\u001b[0;32m---> 26\u001b[0;31m         \u001b[0mbeta\u001b[0m\u001b[0;34m[\u001b[0m\u001b[0mi\u001b[0m\u001b[0;34m]\u001b[0m\u001b[0;34m=\u001b[0m\u001b[0mBeta\u001b[0m\u001b[0;34m[\u001b[0m\u001b[0;36m4\u001b[0m\u001b[0;34m,\u001b[0m\u001b[0;36m2\u001b[0m\u001b[0;34m]\u001b[0m\u001b[0;34m*\u001b[0m\u001b[0mzi\u001b[0m\u001b[0;34m**\u001b[0m\u001b[0mBeta\u001b[0m\u001b[0;34m[\u001b[0m\u001b[0;36m4\u001b[0m\u001b[0;34m,\u001b[0m\u001b[0;36m3\u001b[0m\u001b[0;34m]\u001b[0m\u001b[0;34m\u001b[0m\u001b[0;34m\u001b[0m\u001b[0m\n\u001b[0m\u001b[1;32m     27\u001b[0m     \u001b[0;32melse\u001b[0m\u001b[0;34m:\u001b[0m\u001b[0;34m\u001b[0m\u001b[0;34m\u001b[0m\u001b[0m\n\u001b[1;32m     28\u001b[0m         \u001b[0msys\u001b[0m\u001b[0;34m.\u001b[0m\u001b[0mexit\u001b[0m\u001b[0;34m(\u001b[0m\u001b[0;34m\"Frequency out of range.\"\u001b[0m\u001b[0;34m)\u001b[0m\u001b[0;34m\u001b[0m\u001b[0;34m\u001b[0m\u001b[0m\n",
      "\u001b[0;31mIndexError\u001b[0m: index 50 is out of bounds for axis 0 with size 50"
     ]
    }
   ],
   "source": [
    "    Beta=np.array([\n",
    "        [   0.,  .001,  .245,    0],\n",
    "        [ .001,   .03, 2.206, .272],\n",
    "        [ .030,  .190, 3.542, .407],\n",
    "        [ .190, 4.000, 2.505, .199],\n",
    "        [4.000, 8.000, 2.927, .086]])  #// Table 1 from Boore and Joyner 1997 (Generic Rock Shear velocity)\n",
    "       # zmin, zmax, beta_0, ^exponent:   solution in km/s\n",
    "       # beta=Beta[4,2]*z**Beta[4,3]\n",
    "       #z=T/4*Beta[0,2]*((Beta[0,1]-Beta[0,0])/2)    # approx if we are to go direct.\n",
    "    # create lookup array as a function of z\n",
    "    z=np.linspace(z0,Beta[4,1],50,endpoint=True)\n",
    "    beta=np.zeros(z.size)\n",
    "    i=0\n",
    "    for zi in np.nditer(z):\n",
    "        print(zi)\n",
    "        i=i+1\n",
    "        if zi < Beta[0,1]:\n",
    "            beta[i]=Beta[0,2]*zi**Beta[0,3]\n",
    "        elif zi < Beta [1,1]:\n",
    "            beta[i]=Beta[1,2]*zi**Beta[1,3]\n",
    "        elif zi < Beta [2,1]:\n",
    "            beta[i]=Beta[2,2]*zi**Beta[2,3]\n",
    "        elif zi < Beta [3,1]:\n",
    "            beta[i]=Beta[3,2]*zi**Beta[3,3]\n",
    "        elif zi <= Beta [4,1]:\n",
    "            beta[i]=Beta[4,2]*zi**Beta[4,3]\n",
    "        else:\n",
    "            sys.exit(\"Frequency out of range.\")\n",
    "            "
   ]
  },
  {
   "cell_type": "code",
   "execution_count": 66,
   "metadata": {},
   "outputs": [],
   "source": [
    "import sys"
   ]
  },
  {
   "cell_type": "code",
   "execution_count": 72,
   "metadata": {},
   "outputs": [
    {
     "name": "stdout",
     "output_type": "stream",
     "text": [
      "0.0 0.245\n",
      "0.16326530612244897 1.6939335783145097\n",
      "0.32653061224489793 2.0048347751190647\n",
      "0.4897959183673469 2.1733053413749492\n",
      "0.6530612244897959 2.301354677739624\n",
      "0.8163265306122448 2.4058505656445774\n",
      "0.9795918367346939 2.494742447408273\n",
      "1.1428571428571428 2.5724570214549947\n",
      "1.3061224489795917 2.641730589713814\n",
      "1.4693877551020407 2.704381006153097\n",
      "1.6326530612244896 2.7616816716778323\n",
      "1.7959183673469385 2.8145616251992354\n",
      "1.9591836734693877 2.863720877326492\n",
      "2.1224489795918364 2.9097008759841625\n",
      "2.2857142857142856 2.9529296244664374\n",
      "2.4489795918367343 2.993751705986984\n",
      "2.6122448979591835 3.0324489206870853\n",
      "2.7755102040816326 3.0692548659789205\n",
      "2.9387755102040813 3.1043654849467583\n",
      "3.1020408163265305 3.1379468570090987\n",
      "3.265306122448979 3.1701410572181\n",
      "3.4285714285714284 3.2010706344497124\n",
      "3.591836734693877 3.2308420835098595\n",
      "3.7551020408163263 3.2595485721093183\n",
      "3.9183673469387754 3.2872721076900437\n",
      "4.081632653061225 3.3033488455640385\n",
      "4.244897959183673 3.3145097918006474\n",
      "4.408163265306122 3.325285067878381\n",
      "4.571428571428571 3.335701568234999\n",
      "4.73469387755102 3.345783432042571\n",
      "4.897959183673469 3.3555524095057256\n",
      "5.061224489795918 3.3650281690232924\n",
      "5.224489795918367 3.3742285563389736\n",
      "5.387755102040816 3.383169814434881\n",
      "5.551020408163265 3.391866771111473\n",
      "5.7142857142857135 3.400332999803216\n",
      "5.877551020408163 3.408580958096513\n",
      "6.040816326530612 3.4166221075688705\n",
      "6.204081632653061 3.4244670178998753\n",
      "6.367346938775509 3.432125457673811\n",
      "6.530612244897958 3.4396064738695085\n",
      "6.693877551020408 3.446918461691802\n",
      "6.857142857142857 3.4540692261229484\n",
      "7.020408163265306 3.4610660363478005\n",
      "7.183673469387754 3.467915674022872\n",
      "7.346938775510203 3.4746244762085086\n",
      "7.5102040816326525 3.48119837365873\n",
      "7.673469387755102 3.487642925059887\n",
      "7.836734693877551 3.493963347723147\n"
     ]
    },
    {
     "ename": "IndexError",
     "evalue": "index 50 is out of bounds for axis 0 with size 50",
     "output_type": "error",
     "traceback": [
      "\u001b[0;31m---------------------------------------------------------------------------\u001b[0m",
      "\u001b[0;31mIndexError\u001b[0m                                Traceback (most recent call last)",
      "\u001b[0;32m<ipython-input-72-d29d6c59e804>\u001b[0m in \u001b[0;36m<module>\u001b[0;34m\u001b[0m\n\u001b[1;32m     23\u001b[0m         \u001b[0mbeta\u001b[0m\u001b[0;34m[\u001b[0m\u001b[0mi\u001b[0m\u001b[0;34m]\u001b[0m\u001b[0;34m=\u001b[0m\u001b[0mBeta\u001b[0m\u001b[0;34m[\u001b[0m\u001b[0;36m3\u001b[0m\u001b[0;34m,\u001b[0m\u001b[0;36m2\u001b[0m\u001b[0;34m]\u001b[0m\u001b[0;34m*\u001b[0m\u001b[0mzi\u001b[0m\u001b[0;34m**\u001b[0m\u001b[0mBeta\u001b[0m\u001b[0;34m[\u001b[0m\u001b[0;36m3\u001b[0m\u001b[0;34m,\u001b[0m\u001b[0;36m3\u001b[0m\u001b[0;34m]\u001b[0m\u001b[0;34m\u001b[0m\u001b[0;34m\u001b[0m\u001b[0m\n\u001b[1;32m     24\u001b[0m     \u001b[0;32melif\u001b[0m \u001b[0mzi\u001b[0m \u001b[0;34m<=\u001b[0m \u001b[0mBeta\u001b[0m \u001b[0;34m[\u001b[0m\u001b[0;36m4\u001b[0m\u001b[0;34m,\u001b[0m\u001b[0;36m1\u001b[0m\u001b[0;34m]\u001b[0m\u001b[0;34m:\u001b[0m\u001b[0;34m\u001b[0m\u001b[0;34m\u001b[0m\u001b[0m\n\u001b[0;32m---> 25\u001b[0;31m         \u001b[0mbeta\u001b[0m\u001b[0;34m[\u001b[0m\u001b[0mi\u001b[0m\u001b[0;34m]\u001b[0m\u001b[0;34m=\u001b[0m\u001b[0mBeta\u001b[0m\u001b[0;34m[\u001b[0m\u001b[0;36m4\u001b[0m\u001b[0;34m,\u001b[0m\u001b[0;36m2\u001b[0m\u001b[0;34m]\u001b[0m\u001b[0;34m*\u001b[0m\u001b[0mzi\u001b[0m\u001b[0;34m**\u001b[0m\u001b[0mBeta\u001b[0m\u001b[0;34m[\u001b[0m\u001b[0;36m4\u001b[0m\u001b[0;34m,\u001b[0m\u001b[0;36m3\u001b[0m\u001b[0;34m]\u001b[0m\u001b[0;34m\u001b[0m\u001b[0;34m\u001b[0m\u001b[0m\n\u001b[0m\u001b[1;32m     26\u001b[0m     \u001b[0;32melse\u001b[0m\u001b[0;34m:\u001b[0m\u001b[0;34m\u001b[0m\u001b[0;34m\u001b[0m\u001b[0m\n\u001b[1;32m     27\u001b[0m         \u001b[0mbeta\u001b[0m\u001b[0;34m[\u001b[0m\u001b[0mi\u001b[0m\u001b[0;34m]\u001b[0m\u001b[0;34m=\u001b[0m\u001b[0mBeta\u001b[0m\u001b[0;34m[\u001b[0m\u001b[0;36m4\u001b[0m\u001b[0;34m,\u001b[0m\u001b[0;36m2\u001b[0m\u001b[0;34m]\u001b[0m\u001b[0;34m*\u001b[0m\u001b[0mzi\u001b[0m\u001b[0;34m**\u001b[0m\u001b[0mBeta\u001b[0m\u001b[0;34m[\u001b[0m\u001b[0;36m4\u001b[0m\u001b[0;34m,\u001b[0m\u001b[0;36m3\u001b[0m\u001b[0;34m]\u001b[0m\u001b[0;34m\u001b[0m\u001b[0;34m\u001b[0m\u001b[0m\n",
      "\u001b[0;31mIndexError\u001b[0m: index 50 is out of bounds for axis 0 with size 50"
     ]
    }
   ],
   "source": [
    "    Beta=np.array([\n",
    "        [   0.,  .001,  .245,    0],\n",
    "        [ .001,   .03, 2.206, .272],\n",
    "        [ .030,  .190, 3.542, .407],\n",
    "        [ .190, 4.000, 2.505, .199],\n",
    "        [4.000, 8.000, 2.927, .086]])  #// Table 1 from Boore and Joyner 1997 (Generic Rock Shear velocity)\n",
    "       # zmin, zmax, beta_0, ^exponent:   solution in km/s\n",
    "       # beta=Beta[4,2]*z**Beta[4,3]\n",
    "       #z=T/4*Beta[0,2]*((Beta[0,1]-Beta[0,0])/2)    # approx if we are to go direct.\n",
    "    # create lookup array as a function of z\n",
    "    z=np.linspace(z0,Beta[4,1],50,endpoint=True)\n",
    "    beta=np.zeros(z.size)\n",
    "    i=0\n",
    "    for zi in np.nditer(z):\n",
    "        i=i+1\n",
    "        if zi <= Beta[0,1]:\n",
    "            beta[i]=Beta[0,2]*zi**Beta[0,3]\n",
    "        elif zi <= Beta [1,1]:\n",
    "            beta[i]=Beta[1,2]*zi**Beta[1,3]\n",
    "        elif zi <= Beta [2,1]:\n",
    "            beta[i]=Beta[2,2]*zi**Beta[2,3]\n",
    "        elif zi <= Beta [3,1]:\n",
    "            beta[i]=Beta[3,2]*zi**Beta[3,3]\n",
    "        elif zi <= Beta [4,1]:\n",
    "            beta[i]=Beta[4,2]*zi**Beta[4,3]\n",
    "        else:\n",
    "            beta[i]=Beta[4,2]*zi**Beta[4,3]\n",
    "            #sys.exit(\"Frequency out of range.\")\n",
    "        print(zi,beta[i])"
   ]
  },
  {
   "cell_type": "code",
   "execution_count": 73,
   "metadata": {},
   "outputs": [
    {
     "name": "stdout",
     "output_type": "stream",
     "text": [
      "0.0 0.245\n",
      "0.16326530612244897 1.6939335783145097\n",
      "0.32653061224489793 2.0048347751190647\n",
      "0.4897959183673469 2.1733053413749492\n",
      "0.6530612244897959 2.301354677739624\n",
      "0.8163265306122448 2.4058505656445774\n",
      "0.9795918367346939 2.494742447408273\n",
      "1.1428571428571428 2.5724570214549947\n",
      "1.3061224489795917 2.641730589713814\n",
      "1.4693877551020407 2.704381006153097\n",
      "1.6326530612244896 2.7616816716778323\n",
      "1.7959183673469385 2.8145616251992354\n",
      "1.9591836734693877 2.863720877326492\n",
      "2.1224489795918364 2.9097008759841625\n",
      "2.2857142857142856 2.9529296244664374\n",
      "2.4489795918367343 2.993751705986984\n",
      "2.6122448979591835 3.0324489206870853\n",
      "2.7755102040816326 3.0692548659789205\n",
      "2.9387755102040813 3.1043654849467583\n",
      "3.1020408163265305 3.1379468570090987\n",
      "3.265306122448979 3.1701410572181\n",
      "3.4285714285714284 3.2010706344497124\n",
      "3.591836734693877 3.2308420835098595\n",
      "3.7551020408163263 3.2595485721093183\n",
      "3.9183673469387754 3.2872721076900437\n",
      "4.081632653061225 3.3033488455640385\n",
      "4.244897959183673 3.3145097918006474\n",
      "4.408163265306122 3.325285067878381\n",
      "4.571428571428571 3.335701568234999\n",
      "4.73469387755102 3.345783432042571\n",
      "4.897959183673469 3.3555524095057256\n",
      "5.061224489795918 3.3650281690232924\n",
      "5.224489795918367 3.3742285563389736\n",
      "5.387755102040816 3.383169814434881\n",
      "5.551020408163265 3.391866771111473\n",
      "5.7142857142857135 3.400332999803216\n",
      "5.877551020408163 3.408580958096513\n",
      "6.040816326530612 3.4166221075688705\n",
      "6.204081632653061 3.4244670178998753\n",
      "6.367346938775509 3.432125457673811\n",
      "6.530612244897958 3.4396064738695085\n",
      "6.693877551020408 3.446918461691802\n",
      "6.857142857142857 3.4540692261229484\n",
      "7.020408163265306 3.4610660363478005\n",
      "7.183673469387754 3.467915674022872\n",
      "7.346938775510203 3.4746244762085086\n",
      "7.5102040816326525 3.48119837365873\n",
      "7.673469387755102 3.487642925059887\n",
      "7.836734693877551 3.493963347723147\n"
     ]
    },
    {
     "ename": "IndexError",
     "evalue": "index 50 is out of bounds for axis 0 with size 50",
     "output_type": "error",
     "traceback": [
      "\u001b[0;31m---------------------------------------------------------------------------\u001b[0m",
      "\u001b[0;31mIndexError\u001b[0m                                Traceback (most recent call last)",
      "\u001b[0;32m<ipython-input-73-467d73b4cc75>\u001b[0m in \u001b[0;36m<module>\u001b[0;34m\u001b[0m\n\u001b[1;32m     23\u001b[0m         \u001b[0mbeta\u001b[0m\u001b[0;34m[\u001b[0m\u001b[0mi\u001b[0m\u001b[0;34m]\u001b[0m\u001b[0;34m=\u001b[0m\u001b[0mBeta\u001b[0m\u001b[0;34m[\u001b[0m\u001b[0;36m3\u001b[0m\u001b[0;34m,\u001b[0m\u001b[0;36m2\u001b[0m\u001b[0;34m]\u001b[0m\u001b[0;34m*\u001b[0m\u001b[0mzi\u001b[0m\u001b[0;34m**\u001b[0m\u001b[0mBeta\u001b[0m\u001b[0;34m[\u001b[0m\u001b[0;36m3\u001b[0m\u001b[0;34m,\u001b[0m\u001b[0;36m3\u001b[0m\u001b[0;34m]\u001b[0m\u001b[0;34m\u001b[0m\u001b[0;34m\u001b[0m\u001b[0m\n\u001b[1;32m     24\u001b[0m     \u001b[0;32melif\u001b[0m \u001b[0mzi\u001b[0m \u001b[0;34m<=\u001b[0m \u001b[0mBeta\u001b[0m \u001b[0;34m[\u001b[0m\u001b[0;36m4\u001b[0m\u001b[0;34m,\u001b[0m\u001b[0;36m1\u001b[0m\u001b[0;34m]\u001b[0m\u001b[0;34m:\u001b[0m\u001b[0;34m\u001b[0m\u001b[0;34m\u001b[0m\u001b[0m\n\u001b[0;32m---> 25\u001b[0;31m         \u001b[0mbeta\u001b[0m\u001b[0;34m[\u001b[0m\u001b[0mi\u001b[0m\u001b[0;34m]\u001b[0m\u001b[0;34m=\u001b[0m\u001b[0mBeta\u001b[0m\u001b[0;34m[\u001b[0m\u001b[0;36m4\u001b[0m\u001b[0;34m,\u001b[0m\u001b[0;36m2\u001b[0m\u001b[0;34m]\u001b[0m\u001b[0;34m*\u001b[0m\u001b[0mzi\u001b[0m\u001b[0;34m**\u001b[0m\u001b[0mBeta\u001b[0m\u001b[0;34m[\u001b[0m\u001b[0;36m4\u001b[0m\u001b[0;34m,\u001b[0m\u001b[0;36m3\u001b[0m\u001b[0;34m]\u001b[0m\u001b[0;34m\u001b[0m\u001b[0;34m\u001b[0m\u001b[0m\n\u001b[0m\u001b[1;32m     26\u001b[0m     \u001b[0;32melse\u001b[0m\u001b[0;34m:\u001b[0m\u001b[0;34m\u001b[0m\u001b[0;34m\u001b[0m\u001b[0m\n\u001b[1;32m     27\u001b[0m         \u001b[0mbeta\u001b[0m\u001b[0;34m[\u001b[0m\u001b[0mi\u001b[0m\u001b[0;34m]\u001b[0m\u001b[0;34m=\u001b[0m\u001b[0mBeta\u001b[0m\u001b[0;34m[\u001b[0m\u001b[0;36m4\u001b[0m\u001b[0;34m,\u001b[0m\u001b[0;36m2\u001b[0m\u001b[0;34m]\u001b[0m\u001b[0;34m*\u001b[0m\u001b[0mzi\u001b[0m\u001b[0;34m**\u001b[0m\u001b[0mBeta\u001b[0m\u001b[0;34m[\u001b[0m\u001b[0;36m4\u001b[0m\u001b[0;34m,\u001b[0m\u001b[0;36m3\u001b[0m\u001b[0;34m]\u001b[0m\u001b[0;34m\u001b[0m\u001b[0;34m\u001b[0m\u001b[0m\n",
      "\u001b[0;31mIndexError\u001b[0m: index 50 is out of bounds for axis 0 with size 50"
     ]
    }
   ],
   "source": [
    "    Beta=np.array([\n",
    "        [   0.,  .001,  .245,    0],\n",
    "        [ .001,   .03, 2.206, .272],\n",
    "        [ .030,  .190, 3.542, .407],\n",
    "        [ .190, 4.000, 2.505, .199],\n",
    "        [4.000, 8.000, 2.927, .086]])  #// Table 1 from Boore and Joyner 1997 (Generic Rock Shear velocity)\n",
    "       # zmin, zmax, beta_0, ^exponent:   solution in km/s\n",
    "       # beta=Beta[4,2]*z**Beta[4,3]\n",
    "       #z=T/4*Beta[0,2]*((Beta[0,1]-Beta[0,0])/2)    # approx if we are to go direct.\n",
    "    # create lookup array as a function of z\n",
    "    z=np.linspace(z0,Beta[4,1],50,endpoint=True)\n",
    "    beta=np.zeros(z.size)\n",
    "    i=0\n",
    "    for zi in np.nditer(z):\n",
    "        i=i+1\n",
    "        if zi <= Beta[0,1]:\n",
    "            beta[i]=Beta[0,2]*zi**Beta[0,3]\n",
    "        elif zi <= Beta [1,1]:\n",
    "            beta[i]=Beta[1,2]*zi**Beta[1,3]\n",
    "        elif zi <= Beta [2,1]:\n",
    "            beta[i]=Beta[2,2]*zi**Beta[2,3]\n",
    "        elif zi <= Beta [3,1]:\n",
    "            beta[i]=Beta[3,2]*zi**Beta[3,3]\n",
    "        elif zi <= Beta [4,1]:\n",
    "            beta[i]=Beta[4,2]*zi**Beta[4,3]\n",
    "        else:\n",
    "            beta[i]=Beta[4,2]*zi**Beta[4,3]\n",
    "            #sys.exit(\"Frequency out of range.\")\n",
    "        print(zi,beta[i])"
   ]
  },
  {
   "cell_type": "code",
   "execution_count": 78,
   "metadata": {},
   "outputs": [
    {
     "name": "stdout",
     "output_type": "stream",
     "text": [
      "0.0 0.245 0.0 0.0 inf inf\n",
      "0.16326530612244897 1.6939335783145097 0.024095588547943612 0.09638235419177445 10.375343167176373 65.1902037449487\n",
      "0.32653061224489793 2.0048347751190647 0.040717895596347295 0.16287158238538918 6.139806498802136 38.577541982199314\n",
      "0.4897959183673469 2.1733053413749492 0.05634228070058897 0.22536912280235588 4.437165071973855 27.879530385756574\n",
      "0.6530612244897959 2.301354677739624 0.07094313088793733 0.2837725235517493 3.5239493502887993 22.14162678097963\n",
      "0.8163265306122448 2.4058505656445774 0.08482722724650335 0.3393089089860134 2.947166942914608 18.51759603352644\n",
      "0.9795918367346939 2.494742447408273 0.09816562805434764 0.39266251221739057 2.5467162483959456 16.001490113476923\n",
      "1.1428571428571428 2.5724570214549947 0.11106668967891416 0.44426675871565663 2.2508998937731204 14.142821140487362\n",
      "1.3061224489795917 2.641730589713814 0.12360481175344677 0.4944192470137871 2.022574982749639 12.708213414281538\n",
      "1.4693877551020407 2.704381006153097 0.13583401818741897 0.5433360727496759 1.8404815180764134 11.564086432513301\n",
      "1.6326530612244896 2.7616816716778323 0.1477951892471904 0.5911807569887616 1.6915300239026727 10.628196592838407\n",
      "1.7959183673469385 2.8145616251992354 0.15952025630455063 0.6380810252182025 1.5671990867586654 9.847002275347313\n",
      "1.9591836734693877 2.863720877326492 0.1710347968076448 0.6841391872305792 1.4616908644687305 9.184074563268556\n",
      "2.1224489795918364 2.9097008759841625 0.18235972270465345 0.7294388908186138 1.3709167588771536 8.613724036743191\n",
      "2.2857142857142856 2.9529296244664374 0.1935124246422982 0.7740496985691928 1.2919067107040665 8.1172892629425\n",
      "2.4489795918367343 2.993751705986984 0.20450757380273052 0.8180302952109221 1.2224486132780188 7.680871165730507\n",
      "2.6122448979591835 3.0324489206870853 0.21535769985593914 0.8614307994237566 1.1608593524505249 7.293894427019146\n",
      "2.7755102040816326 3.0692548659789205 0.2260736176430562 0.9042944705722248 1.1058344737718169 6.94816291777575\n",
      "2.9387755102040813 3.1043654849467583 0.23666474875899504 0.9466589950359802 1.0563465886277164 6.637221364954946\n",
      "3.1020408163265305 3.1379468570090987 0.2471393683259512 0.9885574733038048 1.011574973641091 6.35591301149228\n",
      "3.265306122448979 3.1701410572181 0.2575047973822961 1.0300191895291844 0.9708556987730433 6.100066261922356\n",
      "3.4285714285714284 3.2010706344497124 0.26776755499186483 1.0710702199674593 0.9336456017144996 5.866268326805388\n",
      "3.591836734693877 3.2308420835098595 0.2779334800226329 1.1117339200905316 0.8994958073408134 5.651698840553438\n",
      "3.7551020408163263 3.2595485721093183 0.2880078297457557 1.1520313189830227 0.868031956703025 5.454005636518794\n",
      "3.9183673469387754 3.2872721076900437 0.29799536048235753 1.1919814419294301 0.83893923581673 5.271210680100149\n",
      "4.081632653061225 3.3033488455640385 0.3089011215499022 1.2356044861996087 0.8093204671631894 5.0851104680794705\n",
      "4.244897959183673 3.3145097918006474 0.3201753974060204 1.2807015896240816 0.7808220182607295 4.9060494326581265\n",
      "4.408163265306122 3.325285067878381 0.3314124334698503 1.325649733879401 0.7543470755835217 4.739702461820272\n",
      "4.571428571428571 3.335701568234999 0.34261372592208733 1.3704549036883493 0.729684718051406 4.584744299334073\n",
      "4.73469387755102 3.345783432042571 0.353780659576383 1.415122638305532 0.7066525352158878 4.440028826549671\n",
      "4.897959183673469 3.3555524095057256 0.36491451972247246 1.4596580788898899 0.6850919502740858 4.304559676029143\n",
      "5.061224489795918 3.3650281690232924 0.3760165023570182 1.504066009428073 0.6648644366215376 4.177466459446678\n",
      "5.224489795918367 3.3742285563389736 0.38708772306661116 1.5483508922664446 0.6458484346117567 4.057985395017525\n",
      "5.387755102040816 3.383169814434881 0.39812922477708806 1.5925168991083523 0.6279368216185953 3.945443411431007\n",
      "5.551020408163265 3.391866771111473 0.40914198454382866 1.6365679381753147 0.6110348227369933 3.839245020396159\n",
      "5.7142857142857135 3.400332999803216 0.42012691952644127 1.680507678105765 0.5950582749655629 3.7388614101792546\n",
      "5.877551020408163 3.408580958096513 0.43108489226631286 1.7243395690652514 0.5799321768983651 3.64382133304848\n",
      "6.040816326530612 3.4166221075688705 0.4420167153654733 1.7680668614618933 0.5655894705097116 3.553703451002102\n",
      "6.204081632653061 3.4244670178998753 0.4529231556490389 1.8116926225961556 0.5519700127535984 3.468129874137138\n",
      "6.367346938775509 3.432125457673811 0.46380493788032306 1.8552197515212923 0.5390197032885152 3.386760679982699\n",
      "6.530612244897958 3.4396064738695085 0.4746627480869281 1.8986509923477124 0.5266897413112686 3.3092892440491797\n",
      "6.693877551020408 3.446918461691802 0.4854972365472599 1.9419889461890396 0.5149359897039583 3.235438244645889\n",
      "6.857142857142857 3.4540692261229484 0.4963090204795721 1.9852360819182884 0.5037184288095967 3.1649562308520447\n",
      "7.020408163265306 3.4610660363478005 0.5070986864695457 2.028394745878183 0.49300068541000647 3.0976146629976182\n",
      "7.183673469387754 3.467915674022872 0.5178667926673162 2.0714671706692647 0.48274962507704755 3.033205351330559\n",
      "7.346938775510203 3.4746244762085086 0.5286138707805874 2.1144554831223497 0.47293499815060264 2.971538231630871\n",
      "7.5102040816326525 3.48119837365873 0.5393404278868664 2.1573617115474657 0.4635291312752114 2.9124394270781258\n",
      "7.673469387755102 3.487642925059887 0.5500469480848114 2.2001877923392454 0.4545066577870598 2.8557495542229545\n",
      "7.836734693877551 3.493963347723147 0.5607338940020926 2.2429355760083705 0.4458442813500891 2.8013222378689213\n",
      "8.0 3.5001645451637153 0.571401708174966 2.285606832699864 0.4375205681454644 2.749022805360447\n"
     ]
    },
    {
     "name": "stderr",
     "output_type": "stream",
     "text": [
      "/Users/anewman/anaconda3/lib/python3.7/site-packages/ipykernel_launcher.py:30: RuntimeWarning: divide by zero encountered in double_scalars\n"
     ]
    }
   ],
   "source": [
    "    Beta=np.array([\n",
    "        [   0.,  .001,  .245,    0],\n",
    "        [ .001,   .03, 2.206, .272],\n",
    "        [ .030,  .190, 3.542, .407],\n",
    "        [ .190, 4.000, 2.505, .199],\n",
    "        [4.000, 8.000, 2.927, .086]])  #// Table 1 from Boore and Joyner 1997 (Generic Rock Shear velocity)\n",
    "       # zmin, zmax, beta_0, ^exponent:   solution in km/s\n",
    "       # beta=Beta[4,2]*z**Beta[4,3]\n",
    "       #z=T/4*Beta[0,2]*((Beta[0,1]-Beta[0,0])/2)    # approx if we are to go direct.\n",
    "    # create lookup array as a function of z\n",
    "    z=np.linspace(z0,Beta[4,1],50,endpoint=True)\n",
    "    beta=np.zeros(z.size)\n",
    "    i=0\n",
    "    for zi in np.nditer(z):\n",
    "        if zi <= Beta[0,1]:\n",
    "            beta[i]=Beta[0,2]*zi**Beta[0,3]\n",
    "        elif zi <= Beta [1,1]:\n",
    "            beta[i]=Beta[1,2]*zi**Beta[1,3]\n",
    "        elif zi <= Beta [2,1]:\n",
    "            beta[i]=Beta[2,2]*zi**Beta[2,3]\n",
    "        elif zi <= Beta [3,1]:\n",
    "            beta[i]=Beta[3,2]*zi**Beta[3,3]\n",
    "        elif zi <= Beta [4,1]:\n",
    "            beta[i]=Beta[4,2]*zi**Beta[4,3]\n",
    "        else:\n",
    "            beta[i]=Beta[4,2]*zi**Beta[4,3]\n",
    "            #sys.exit(\"Frequency out of range.\")\n",
    "        ti=zi/beta[i]   # period.\n",
    "        ti_over4=ti/4.  # quarter wavelength window. (quarter period in Boatwright/Boore lingo)\n",
    "        fi=1./ti        # Frequency \n",
    "        omegai=2.*pi*fi # angular frequency\n",
    "        print(zi,beta[i],ti_over4,ti,fi,omegai)  # 1 Hz is penetrating about 3km depth (1/4 wavelength, 0.5 hz)\n",
    "        i=i+1"
   ]
  },
  {
   "cell_type": "code",
   "execution_count": 99,
   "metadata": {},
   "outputs": [
    {
     "name": "stdout",
     "output_type": "stream",
     "text": [
      "[0.         0.16326531 0.32653061 0.48979592 0.65306122 0.81632653\n",
      " 0.97959184 1.14285714 1.30612245 1.46938776 1.63265306 1.79591837\n",
      " 1.95918367 2.12244898 2.28571429 2.44897959 2.6122449  2.7755102\n",
      " 2.93877551 3.10204082 3.26530612 3.42857143 3.59183673 3.75510204\n",
      " 3.91836735 4.08163265 4.24489796 4.40816327 4.57142857 4.73469388\n",
      " 4.89795918 5.06122449 5.2244898  5.3877551  5.55102041 5.71428571\n",
      " 5.87755102 6.04081633 6.20408163 6.36734694 6.53061224 6.69387755\n",
      " 6.85714286 7.02040816 7.18367347 7.34693878 7.51020408 7.67346939\n",
      " 7.83673469 8.        ] [0.245      1.69393358 2.00483478 2.17330534 2.30135468 2.40585057\n",
      " 2.49474245 2.57245702 2.64173059 2.70438101 2.76168167 2.81456163\n",
      " 2.86372088 2.90970088 2.95292962 2.99375171 3.03244892 3.06925487\n",
      " 3.10436548 3.13794686 3.17014106 3.20107063 3.23084208 3.25954857\n",
      " 3.28727211 3.30334885 3.31450979 3.32528507 3.33570157 3.34578343\n",
      " 3.35555241 3.36502817 3.37422856 3.38316981 3.39186677 3.400333\n",
      " 3.40858096 3.41662211 3.42446702 3.43212546 3.43960647 3.44691846\n",
      " 3.45406923 3.46106604 3.46791567 3.47462448 3.48119837 3.48764293\n",
      " 3.49396335 3.50016455] [0.         0.02409559 0.0407179  0.05634228 0.07094313 0.08482723\n",
      " 0.09816563 0.11106669 0.12360481 0.13583402 0.14779519 0.15952026\n",
      " 0.1710348  0.18235972 0.19351242 0.20450757 0.2153577  0.22607362\n",
      " 0.23666475 0.24713937 0.2575048  0.26776755 0.27793348 0.28800783\n",
      " 0.29799536 0.30890112 0.3201754  0.33141243 0.34261373 0.35378066\n",
      " 0.36491452 0.3760165  0.38708772 0.39812922 0.40914198 0.42012692\n",
      " 0.43108489 0.44201672 0.45292316 0.46380494 0.47466275 0.48549724\n",
      " 0.49630902 0.50709869 0.51786679 0.52861387 0.53934043 0.55004695\n",
      " 0.56073389 0.57140171] [         inf 166.00549067  98.23690398  70.99464115  56.3831896\n",
      "  47.15467109  40.74745997  36.0143983   32.36119972  29.44770429\n",
      "  27.06448038  25.07518539  23.38705383  21.93466814  20.67050737\n",
      "  19.55917781  18.57374964  17.69335158  16.90154542  16.18519958\n",
      "  15.53369118  14.93832963  14.39193292  13.88851131  13.42302777\n",
      "  12.94912747  12.49315229  12.06955321  11.67495549  11.30644056\n",
      "  10.9614712   10.63783099  10.33357495  10.04698915   9.77655716\n",
      "   9.5209324    9.27891483   9.04943153   8.8315202    8.62431525\n",
      "   8.42703586   8.23897584   8.05949486   7.88801097   7.723994\n",
      "   7.56695997   7.4164661    7.27210652   7.1335085    7.00032909] [          inf 1043.04325992  617.24067172  446.07248617  354.2660285\n",
      "  296.28153654  256.02384182  226.28513825  203.33141463  185.02538292\n",
      "  170.05114549  157.55203641  146.94519301  137.81958459  129.87662821\n",
      "  122.89393865  116.70231083  111.17060668  106.19554184  101.69460818\n",
      "   97.60106019   93.86029323   90.42718145   87.26409018   84.33937088\n",
      "   81.36176749   78.49679092   75.83523939   73.35590879   71.04046122\n",
      "   68.87295482   66.83946335   64.92776632   63.12709458   61.42792033\n",
      "   59.82178256   58.30114133   56.85925522   55.49007799   54.18817088\n",
      "   52.9486279    51.76701191   50.63929969   49.56183461   48.53128562\n",
      "   47.54461171   46.59903083   45.69199287   44.82115581   43.98436489]\n"
     ]
    },
    {
     "name": "stderr",
     "output_type": "stream",
     "text": [
      "/Users/anewman/anaconda3/lib/python3.7/site-packages/ipykernel_launcher.py:45: RuntimeWarning: divide by zero encountered in true_divide\n"
     ]
    }
   ],
   "source": [
    "    from math import pi\n",
    "    import numpy as np\n",
    "    from numpy import array\n",
    "    import sys\n",
    "\n",
    "\n",
    "    z0=0\n",
    "    T=2*pi/w\n",
    "    zmax=T/4   # // TODO this isn't correct. needs to be divide by velocity  #Boore and Joyner's depth of penetration.\n",
    "\n",
    "\n",
    "    Beta=np.array([\n",
    "        [   0.,  .001,  .245,    0],\n",
    "        [ .001,   .03, 2.206, .272],\n",
    "        [ .030,  .190, 3.542, .407],\n",
    "        [ .190, 4.000, 2.505, .199],\n",
    "        [4.000, 8.000, 2.927, .086]])  #// Table 1 from Boore and Joyner 1997 (Generic Rock Shear velocity)\n",
    "       # zmin, zmax, beta_0, ^exponent:   solution in km/s\n",
    "       # beta=Beta[4,2]*z**Beta[4,3]\n",
    "       #z=T/4*Beta[0,2]*((Beta[0,1]-Beta[0,0])/2)    # approx if we are to go direct.\n",
    "    # create lookup array as a function of z\n",
    "    z=np.linspace(z0,Beta[4,1],50,endpoint=True)\n",
    "    beta=np.zeros(z.size)\n",
    "    omega=np.zeros(z.size)\n",
    "    f=np.zeros(z.size)\n",
    "    t_over4=np.zeros(z.size)\n",
    "    i=0\n",
    "    for zi in np.nditer(z):\n",
    "        if zi <= Beta[0,1]:\n",
    "            beta[i]=Beta[0,2]*zi**Beta[0,3]\n",
    "        elif zi <= Beta [1,1]:\n",
    "            beta[i]=Beta[1,2]*zi**Beta[1,3]\n",
    "        elif zi <= Beta [2,1]:\n",
    "            beta[i]=Beta[2,2]*zi**Beta[2,3]\n",
    "        elif zi <= Beta [3,1]:\n",
    "            beta[i]=Beta[3,2]*zi**Beta[3,3]\n",
    "        elif zi <= Beta [4,1]:\n",
    "            beta[i]=Beta[4,2]*zi**Beta[4,3]\n",
    "        else:\n",
    "            beta[i]=Beta[4,2]*zi**Beta[4,3]  #extrapolate just don't use for very long periods\n",
    "            #sys.exit(\"Frequency out of range.\")\n",
    "        i=i+1\n",
    "\n",
    "    t_over4=z/beta/4.   # quarter wavelength window. (quarter period in Boatwright/Boore lingo)\n",
    "    f=4./t_over4        # Frequency (have to put that factor of 4 back in..)\n",
    "    omega=2.*pi*f # angular frequency\n",
    "    print(z,beta,t_over4,f,omega)  # (worth freq/z relationzhip)\n"
   ]
  },
  {
   "cell_type": "code",
   "execution_count": 102,
   "metadata": {},
   "outputs": [
    {
     "name": "stdout",
     "output_type": "stream",
     "text": [
      "7.000329090327431\n"
     ]
    }
   ],
   "source": [
    "print(4./t_over4[49])"
   ]
  },
  {
   "cell_type": "code",
   "execution_count": 103,
   "metadata": {},
   "outputs": [
    {
     "name": "stdout",
     "output_type": "stream",
     "text": [
      "0.0 0.245 0.0 0.0 inf inf\n",
      "0.16326530612244897 1.6939335783145097 0.024095588547943612 0.09638235419177445 10.375343167176373 65.1902037449487\n",
      "0.32653061224489793 2.0048347751190647 0.040717895596347295 0.16287158238538918 6.139806498802136 38.577541982199314\n",
      "0.4897959183673469 2.1733053413749492 0.05634228070058897 0.22536912280235588 4.437165071973855 27.879530385756574\n",
      "0.6530612244897959 2.301354677739624 0.07094313088793733 0.2837725235517493 3.5239493502887993 22.14162678097963\n",
      "0.8163265306122448 2.4058505656445774 0.08482722724650335 0.3393089089860134 2.947166942914608 18.51759603352644\n",
      "0.9795918367346939 2.494742447408273 0.09816562805434764 0.39266251221739057 2.5467162483959456 16.001490113476923\n",
      "1.1428571428571428 2.5724570214549947 0.11106668967891416 0.44426675871565663 2.2508998937731204 14.142821140487362\n",
      "1.3061224489795917 2.641730589713814 0.12360481175344677 0.4944192470137871 2.022574982749639 12.708213414281538\n",
      "1.4693877551020407 2.704381006153097 0.13583401818741897 0.5433360727496759 1.8404815180764134 11.564086432513301\n",
      "1.6326530612244896 2.7616816716778323 0.1477951892471904 0.5911807569887616 1.6915300239026727 10.628196592838407\n",
      "1.7959183673469385 2.8145616251992354 0.15952025630455063 0.6380810252182025 1.5671990867586654 9.847002275347313\n",
      "1.9591836734693877 2.863720877326492 0.1710347968076448 0.6841391872305792 1.4616908644687305 9.184074563268556\n",
      "2.1224489795918364 2.9097008759841625 0.18235972270465345 0.7294388908186138 1.3709167588771536 8.613724036743191\n",
      "2.2857142857142856 2.9529296244664374 0.1935124246422982 0.7740496985691928 1.2919067107040665 8.1172892629425\n",
      "2.4489795918367343 2.993751705986984 0.20450757380273052 0.8180302952109221 1.2224486132780188 7.680871165730507\n",
      "2.6122448979591835 3.0324489206870853 0.21535769985593914 0.8614307994237566 1.1608593524505249 7.293894427019146\n",
      "2.7755102040816326 3.0692548659789205 0.2260736176430562 0.9042944705722248 1.1058344737718169 6.94816291777575\n",
      "2.9387755102040813 3.1043654849467583 0.23666474875899504 0.9466589950359802 1.0563465886277164 6.637221364954946\n",
      "3.1020408163265305 3.1379468570090987 0.2471393683259512 0.9885574733038048 1.011574973641091 6.35591301149228\n",
      "3.265306122448979 3.1701410572181 0.2575047973822961 1.0300191895291844 0.9708556987730433 6.100066261922356\n",
      "3.4285714285714284 3.2010706344497124 0.26776755499186483 1.0710702199674593 0.9336456017144996 5.866268326805388\n",
      "3.591836734693877 3.2308420835098595 0.2779334800226329 1.1117339200905316 0.8994958073408134 5.651698840553438\n",
      "3.7551020408163263 3.2595485721093183 0.2880078297457557 1.1520313189830227 0.868031956703025 5.454005636518794\n",
      "3.9183673469387754 3.2872721076900437 0.29799536048235753 1.1919814419294301 0.83893923581673 5.271210680100149\n",
      "4.081632653061225 3.3033488455640385 0.3089011215499022 1.2356044861996087 0.8093204671631894 5.0851104680794705\n",
      "4.244897959183673 3.3145097918006474 0.3201753974060204 1.2807015896240816 0.7808220182607295 4.9060494326581265\n",
      "4.408163265306122 3.325285067878381 0.3314124334698503 1.325649733879401 0.7543470755835217 4.739702461820272\n",
      "4.571428571428571 3.335701568234999 0.34261372592208733 1.3704549036883493 0.729684718051406 4.584744299334073\n",
      "4.73469387755102 3.345783432042571 0.353780659576383 1.415122638305532 0.7066525352158878 4.440028826549671\n",
      "4.897959183673469 3.3555524095057256 0.36491451972247246 1.4596580788898899 0.6850919502740858 4.304559676029143\n",
      "5.061224489795918 3.3650281690232924 0.3760165023570182 1.504066009428073 0.6648644366215376 4.177466459446678\n",
      "5.224489795918367 3.3742285563389736 0.38708772306661116 1.5483508922664446 0.6458484346117567 4.057985395017525\n",
      "5.387755102040816 3.383169814434881 0.39812922477708806 1.5925168991083523 0.6279368216185953 3.945443411431007\n",
      "5.551020408163265 3.391866771111473 0.40914198454382866 1.6365679381753147 0.6110348227369933 3.839245020396159\n",
      "5.7142857142857135 3.400332999803216 0.42012691952644127 1.680507678105765 0.5950582749655629 3.7388614101792546\n",
      "5.877551020408163 3.408580958096513 0.43108489226631286 1.7243395690652514 0.5799321768983651 3.64382133304848\n",
      "6.040816326530612 3.4166221075688705 0.4420167153654733 1.7680668614618933 0.5655894705097116 3.553703451002102\n",
      "6.204081632653061 3.4244670178998753 0.4529231556490389 1.8116926225961556 0.5519700127535984 3.468129874137138\n",
      "6.367346938775509 3.432125457673811 0.46380493788032306 1.8552197515212923 0.5390197032885152 3.386760679982699\n",
      "6.530612244897958 3.4396064738695085 0.4746627480869281 1.8986509923477124 0.5266897413112686 3.3092892440491797\n",
      "6.693877551020408 3.446918461691802 0.4854972365472599 1.9419889461890396 0.5149359897039583 3.235438244645889\n",
      "6.857142857142857 3.4540692261229484 0.4963090204795721 1.9852360819182884 0.5037184288095967 3.1649562308520447\n",
      "7.020408163265306 3.4610660363478005 0.5070986864695457 2.028394745878183 0.49300068541000647 3.0976146629976182\n",
      "7.183673469387754 3.467915674022872 0.5178667926673162 2.0714671706692647 0.48274962507704755 3.033205351330559\n",
      "7.346938775510203 3.4746244762085086 0.5286138707805874 2.1144554831223497 0.47293499815060264 2.971538231630871\n",
      "7.5102040816326525 3.48119837365873 0.5393404278868664 2.1573617115474657 0.4635291312752114 2.9124394270781258\n",
      "7.673469387755102 3.487642925059887 0.5500469480848114 2.2001877923392454 0.4545066577870598 2.8557495542229545\n",
      "7.836734693877551 3.493963347723147 0.5607338940020926 2.2429355760083705 0.4458442813500891 2.8013222378689213\n",
      "8.0 3.5001645451637153 0.571401708174966 2.285606832699864 0.4375205681454644 2.749022805360447\n",
      "[0.         0.16326531 0.32653061 0.48979592 0.65306122 0.81632653\n",
      " 0.97959184 1.14285714 1.30612245 1.46938776 1.63265306 1.79591837\n",
      " 1.95918367 2.12244898 2.28571429 2.44897959 2.6122449  2.7755102\n",
      " 2.93877551 3.10204082 3.26530612 3.42857143 3.59183673 3.75510204\n",
      " 3.91836735 4.08163265 4.24489796 4.40816327 4.57142857 4.73469388\n",
      " 4.89795918 5.06122449 5.2244898  5.3877551  5.55102041 5.71428571\n",
      " 5.87755102 6.04081633 6.20408163 6.36734694 6.53061224 6.69387755\n",
      " 6.85714286 7.02040816 7.18367347 7.34693878 7.51020408 7.67346939\n",
      " 7.83673469 8.        ] [0.245      1.69393358 2.00483478 2.17330534 2.30135468 2.40585057\n",
      " 2.49474245 2.57245702 2.64173059 2.70438101 2.76168167 2.81456163\n",
      " 2.86372088 2.90970088 2.95292962 2.99375171 3.03244892 3.06925487\n",
      " 3.10436548 3.13794686 3.17014106 3.20107063 3.23084208 3.25954857\n",
      " 3.28727211 3.30334885 3.31450979 3.32528507 3.33570157 3.34578343\n",
      " 3.35555241 3.36502817 3.37422856 3.38316981 3.39186677 3.400333\n",
      " 3.40858096 3.41662211 3.42446702 3.43212546 3.43960647 3.44691846\n",
      " 3.45406923 3.46106604 3.46791567 3.47462448 3.48119837 3.48764293\n",
      " 3.49396335 3.50016455] [0.         0.02409559 0.0407179  0.05634228 0.07094313 0.08482723\n",
      " 0.09816563 0.11106669 0.12360481 0.13583402 0.14779519 0.15952026\n",
      " 0.1710348  0.18235972 0.19351242 0.20450757 0.2153577  0.22607362\n",
      " 0.23666475 0.24713937 0.2575048  0.26776755 0.27793348 0.28800783\n",
      " 0.29799536 0.30890112 0.3201754  0.33141243 0.34261373 0.35378066\n",
      " 0.36491452 0.3760165  0.38708772 0.39812922 0.40914198 0.42012692\n",
      " 0.43108489 0.44201672 0.45292316 0.46380494 0.47466275 0.48549724\n",
      " 0.49630902 0.50709869 0.51786679 0.52861387 0.53934043 0.55004695\n",
      " 0.56073389 0.57140171] [0.         0.09638235 0.16287158 0.22536912 0.28377252 0.33930891\n",
      " 0.39266251 0.44426676 0.49441925 0.54333607 0.59118076 0.63808103\n",
      " 0.68413919 0.72943889 0.7740497  0.8180303  0.8614308  0.90429447\n",
      " 0.946659   0.98855747 1.03001919 1.07107022 1.11173392 1.15203132\n",
      " 1.19198144 1.23560449 1.28070159 1.32564973 1.3704549  1.41512264\n",
      " 1.45965808 1.50406601 1.54835089 1.5925169  1.63656794 1.68050768\n",
      " 1.72433957 1.76806686 1.81169262 1.85521975 1.89865099 1.94198895\n",
      " 1.98523608 2.02839475 2.07146717 2.11445548 2.15736171 2.20018779\n",
      " 2.24293558 2.28560683] [        inf 10.37534317  6.1398065   4.43716507  3.52394935  2.94716694\n",
      "  2.54671625  2.25089989  2.02257498  1.84048152  1.69153002  1.56719909\n",
      "  1.46169086  1.37091676  1.29190671  1.22244861  1.16085935  1.10583447\n",
      "  1.05634659  1.01157497  0.9708557   0.9336456   0.89949581  0.86803196\n",
      "  0.83893924  0.80932047  0.78082202  0.75434708  0.72968472  0.70665254\n",
      "  0.68509195  0.66486444  0.64584843  0.62793682  0.61103482  0.59505827\n",
      "  0.57993218  0.56558947  0.55197001  0.5390197   0.52668974  0.51493599\n",
      "  0.50371843  0.49300069  0.48274963  0.472935    0.46352913  0.45450666\n",
      "  0.44584428  0.43752057] [        inf 65.19020374 38.57754198 27.87953039 22.14162678 18.51759603\n",
      " 16.00149011 14.14282114 12.70821341 11.56408643 10.62819659  9.84700228\n",
      "  9.18407456  8.61372404  8.11728926  7.68087117  7.29389443  6.94816292\n",
      "  6.63722136  6.35591301  6.10006626  5.86626833  5.65169884  5.45400564\n",
      "  5.27121068  5.08511047  4.90604943  4.73970246  4.5847443   4.44002883\n",
      "  4.30455968  4.17746646  4.0579854   3.94544341  3.83924502  3.73886141\n",
      "  3.64382133  3.55370345  3.46812987  3.38676068  3.30928924  3.23543824\n",
      "  3.16495623  3.09761466  3.03320535  2.97153823  2.91243943  2.85574955\n",
      "  2.80132224  2.74902281]\n"
     ]
    },
    {
     "name": "stderr",
     "output_type": "stream",
     "text": [
      "/Users/anewman/anaconda3/lib/python3.7/site-packages/ipykernel_launcher.py:24: RuntimeWarning: divide by zero encountered in double_scalars\n",
      "/Users/anewman/anaconda3/lib/python3.7/site-packages/ipykernel_launcher.py:32: RuntimeWarning: divide by zero encountered in true_divide\n"
     ]
    }
   ],
   "source": [
    "    z=np.linspace(z0,Beta[4,1],50,endpoint=True)\n",
    "    beta=np.zeros(z.size)\n",
    "    tp=np.zeros(z.size)\n",
    "    omega=np.zeros(z.size)\n",
    "    f=np.zeros(z.size)\n",
    "    t_over4=np.zeros(z.size)\n",
    "    i=0\n",
    "    for zi in np.nditer(z):\n",
    "        if zi <= Beta[0,1]:\n",
    "            beta[i]=Beta[0,2]*zi**Beta[0,3]\n",
    "        elif zi <= Beta [1,1]:\n",
    "            beta[i]=Beta[1,2]*zi**Beta[1,3]\n",
    "        elif zi <= Beta [2,1]:\n",
    "            beta[i]=Beta[2,2]*zi**Beta[2,3]\n",
    "        elif zi <= Beta [3,1]:\n",
    "            beta[i]=Beta[3,2]*zi**Beta[3,3]\n",
    "        elif zi <= Beta [4,1]:\n",
    "            beta[i]=Beta[4,2]*zi**Beta[4,3]\n",
    "        else:\n",
    "            beta[i]=Beta[4,2]*zi**Beta[4,3]  #extrapolate just don't use for very long periods\n",
    "            #sys.exit(\"Frequency out of range.\")\n",
    "        ti=zi/beta[i]   # period.\n",
    "        ti_over4=ti/4.  # quarter wavelength window. (quarter period in Boatwright/Boore lingo)\n",
    "        fi=1./ti        # Frequency\n",
    "        omegai=2.*pi*fi # angular frequency\n",
    "        print(zi,beta[i],ti_over4,ti,fi,omegai)\n",
    "        i += 1  # pythons way\n",
    "\n",
    "# this route gets me much deeper values of period than if I iterate.\n",
    "    tp=z/beta           # period\n",
    "    t_over4=tp/4.       # quarter wavelength window. (quarter period in Boatwright/Boore lingo)\n",
    "    f=1./tp             # Frequency (have to put that factor of 4 back in..)\n",
    "    omega=2.*pi*f       # angular frequency\n",
    "    print(z,beta,t_over4,tp,f,omega)  # (worth freq/z relationzhip)\n"
   ]
  },
  {
   "cell_type": "code",
   "execution_count": 104,
   "metadata": {},
   "outputs": [],
   "source": [
    "import matplotlib.pyplot as plt"
   ]
  },
  {
   "cell_type": "code",
   "execution_count": 116,
   "metadata": {},
   "outputs": [
    {
     "ename": "NameError",
     "evalue": "name 'plot' is not defined",
     "output_type": "error",
     "traceback": [
      "\u001b[0;31m---------------------------------------------------------------------------\u001b[0m",
      "\u001b[0;31mNameError\u001b[0m                                 Traceback (most recent call last)",
      "\u001b[0;32m<ipython-input-116-0f96a9168c4b>\u001b[0m in \u001b[0;36m<module>\u001b[0;34m\u001b[0m\n\u001b[1;32m     13\u001b[0m \u001b[0;34m\u001b[0m\u001b[0m\n\u001b[1;32m     14\u001b[0m \u001b[0mfig\u001b[0m\u001b[0;34m.\u001b[0m\u001b[0mtight_layout\u001b[0m\u001b[0;34m(\u001b[0m\u001b[0;34m)\u001b[0m\u001b[0;34m\u001b[0m\u001b[0;34m\u001b[0m\u001b[0m\n\u001b[0;32m---> 15\u001b[0;31m \u001b[0mplot\u001b[0m\u001b[0;34m.\u001b[0m\u001b[0mshow\u001b[0m\u001b[0;34m(\u001b[0m\u001b[0;34m)\u001b[0m\u001b[0;34m\u001b[0m\u001b[0;34m\u001b[0m\u001b[0m\n\u001b[0m",
      "\u001b[0;31mNameError\u001b[0m: name 'plot' is not defined"
     ]
    },
    {
     "data": {
      "image/png": "[encoded data removed]",
      "text/plain": [
       "<Figure size 432x288 with 2 Axes>"
      ]
     },
     "metadata": {
      "needs_background": "light"
     },
     "output_type": "display_data"
    }
   ],
   "source": [
    "fig, ax1=plt.subplots()\n",
    "color='tab:red'\n",
    "ax1.set_xlabel('depth[km]')\n",
    "ax1.set_ylabel('T/4 [s]',color=color)\n",
    "ax1.plot(z,f, color=color, label='frequency [hz]', linewidth=1)\n",
    "ax1.tick_params(axis='y', labelcolor=color)\n",
    "\n",
    "ax2=ax1.twinx()\n",
    "color='tab:blue'\n",
    "ax2.set_ylabel('frequency [hz]',color=color)\n",
    "ax2.plot(z,t_over4, color=color, label='period [s]', linewidth=1)\n",
    "ax2.tick_params(axis='y',labelcolor=color)\n",
    "\n",
    "fig.tight_layout()\n",
    "plt.show()"
   ]
  },
  {
   "cell_type": "code",
   "execution_count": null,
   "metadata": {},
   "outputs": [],
   "source": []
  }
 ],
 "metadata": {
  "kernelspec": {
   "display_name": "Python 3",
   "language": "python",
   "name": "python3"
  },
  "language_info": {
   "codemirror_mode": {
    "name": "ipython",
    "version": 3
   },
   "file_extension": ".py",
   "mimetype": "text/x-python",
   "name": "python",
   "nbconvert_exporter": "python",
   "pygments_lexer": "ipython3",
   "version": "3.7.3"
  }
 },
 "nbformat": 4,
 "nbformat_minor": 2
}
